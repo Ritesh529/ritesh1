{
 "cells": [
  {
   "cell_type": "code",
   "execution_count": 2,
   "metadata": {},
   "outputs": [
    {
     "name": "stdout",
     "output_type": "stream",
     "text": [
      "This is line 1\n",
      "\n",
      "This is line 2\n",
      "\n",
      "This is line 3\n",
      "\n",
      "This is line 4\n",
      "\n",
      "This is line 5\n",
      "\n",
      "This is line 6\n",
      "\n",
      "This is line 7\n",
      "\n",
      "This is line 8\n",
      "\n",
      "This is line 9\n",
      "\n",
      "This is line 10\n",
      "\n",
      "This is appended line 1\n",
      "\n",
      "This is appended line 2\n",
      "\n",
      "\n"
     ]
    }
   ],
   "source": [
    "#1.Write a Python program to read a file line by line store it into a variable.\n",
    "f=open(\"myfiles.txt\",\"r\")\n",
    "if f.mode == \"r\":\n",
    "    line=f.read()\n",
    "    print(line)"
   ]
  },
  {
   "cell_type": "code",
   "execution_count": 3,
   "metadata": {},
   "outputs": [
    {
     "name": "stdout",
     "output_type": "stream",
     "text": [
      "['appended', 'appended']\n"
     ]
    }
   ],
   "source": [
    "#2.ite a python program to find the longest words\n",
    "def longest_word(filename):\n",
    "    with open(\"myfiles.txt\",\"r\") as infile:\n",
    "        words=infile.read().split()\n",
    "        max_len = len(max(words,key=len))\n",
    "        return[word for word in words if len(word) == max_len]\n",
    "print(longest_word(\"myfiles.txt\"))"
   ]
  },
  {
   "cell_type": "code",
   "execution_count": 6,
   "metadata": {},
   "outputs": [
    {
     "name": "stdout",
     "output_type": "stream",
     "text": [
      "no of lines: 24\n"
     ]
    }
   ],
   "source": [
    "#3.Write a function to find the no of lines in the given file\n",
    "def no_of_lines(filename):\n",
    "    with open(filename) as fil:\n",
    "        for i,l in enumerate(fil):\n",
    "            pass\n",
    "    return i+1\n",
    "           \n",
    "print(\"no of lines:\",no_of_lines(\"myfiles.txt\"))            "
   ]
  },
  {
   "cell_type": "code",
   "execution_count": 7,
   "metadata": {},
   "outputs": [
    {
     "name": "stdout",
     "output_type": "stream",
     "text": [
      "enter file name:myfiles.txt\n",
      "no of characters: 211\n"
     ]
    }
   ],
   "source": [
    "#4.Write a python program to count the character from given file.\n",
    "def no_of_char(filename):\n",
    "    character = 0\n",
    "    with open(filename,\"r\") as infile:\n",
    "        for i in infile:\n",
    "            wordslist = i.split()\n",
    "            character = character + len(i)\n",
    "    return character\n",
    "    \n",
    "n=input(\"enter file name:\")    \n",
    "print(\"no of characters:\",no_of_char(n))    "
   ]
  },
  {
   "cell_type": "code",
   "execution_count": 23,
   "metadata": {},
   "outputs": [
    {
     "name": "stdout",
     "output_type": "stream",
     "text": [
      "enter filename:myfile1.txt\n",
      "no of words in the file are: 39\n"
     ]
    }
   ],
   "source": [
    "#5.Write a python program for #data analysis # word count program \n",
    "def wordcount(filename):\n",
    "   with open(filename, 'r') as info:\n",
    "    words = 0\n",
    "    for line in info:\n",
    "        wordslist = line.split()\n",
    "        words = words + len(wordslist)\n",
    "   return words   \n",
    "    \n",
    "n=input(\"enter filename:\")    \n",
    "print(\"no of words in the file are:\",wordcount(n))    "
   ]
  },
  {
   "cell_type": "code",
   "execution_count": 16,
   "metadata": {},
   "outputs": [
    {
     "name": "stdout",
     "output_type": "stream",
     "text": [
      "enter file name:myfile1.txt\n",
      "hey how are you I am fine and you Yes I am fine\n"
     ]
    }
   ],
   "source": [
    "#6.Write a function to read the file.\n",
    "def read_func(filename):\n",
    "    with open(filename,\"r\") as info:\n",
    "        data=info.read()\n",
    "    return data    \n",
    "n=input(\"enter file name:\")        \n",
    "print(read_func(n))        "
   ]
  },
  {
   "cell_type": "code",
   "execution_count": 18,
   "metadata": {},
   "outputs": [
    {
     "name": "stdout",
     "output_type": "stream",
     "text": [
      "enter file name:myfile1.txt\n",
      "{'hey': 1, 'how': 1, 'are': 1, 'you': 2, 'I': 2, 'am': 2, 'fine': 2, 'and': 1, 'Yes': 1}\n"
     ]
    }
   ],
   "source": [
    "#7.Python program to count the frequency of words in a file\n",
    "def frequency_words(filename):\n",
    "    dict={ }\n",
    "    with open(filename,\"r\") as info:\n",
    "        for l in info:\n",
    "            for w in l.split():\n",
    "                dict[w] = dict.get(w,0)+1\n",
    "    return dict            \n",
    "n=input(\"enter file name:\")        \n",
    "print(frequency_words(n))     "
   ]
  },
  {
   "cell_type": "code",
   "execution_count": 20,
   "metadata": {},
   "outputs": [
    {
     "name": "stdout",
     "output_type": "stream",
     "text": [
      "enter file name: myfiles.txt\n",
      "223\n"
     ]
    }
   ],
   "source": [
    "#Python program to get the file size of a plain file\n",
    "def getsize(filename):\n",
    "    with open(filename,\"r\") as info:\n",
    "        info.seek(0,2)\n",
    "        size=info.tell()\n",
    "    return size\n",
    "\n",
    "f=input(\"enter file name: \")\n",
    "print(getsize(f))"
   ]
  },
  {
   "cell_type": "code",
   "execution_count": 24,
   "metadata": {},
   "outputs": [
    {
     "name": "stdout",
     "output_type": "stream",
     "text": [
      "enter the old file name:myfile1.txt\n",
      "enter the new file name:myfile2.txt\n",
      "copied\n"
     ]
    }
   ],
   "source": [
    "#9.Python program to copy the contents of a file to another file\n",
    "def copy_file(filename1,filename2):\n",
    "    with open(filename1) as f:\n",
    "        with open(filename2, \"w\") as f1:\n",
    "            for line in f:\n",
    "                f1.write(line)\n",
    "    return \"copied\"            \n",
    "            \n",
    "f1=input(\"enter the old file name:\")\n",
    "f2=input(\"enter the new file name:\")\n",
    "print(copy_file(f1,f2))"
   ]
  },
  {
   "cell_type": "code",
   "execution_count": null,
   "metadata": {},
   "outputs": [],
   "source": [
    "#10.Python program to remove newline characters from a file\n",
    "def remove_newlines(filename):\n",
    "    flist = open(filename).readlines()\n",
    "    return [s.rstrip('\\n') for s in flist]\n",
    "\n",
    "f=input(\"enter file name:\")\n",
    "print(remove_newlines(f))"
   ]
  }
 ],
 "metadata": {
  "kernelspec": {
   "display_name": "Python 3",
   "language": "python",
   "name": "python3"
  },
  "language_info": {
   "codemirror_mode": {
    "name": "ipython",
    "version": 3
   },
   "file_extension": ".py",
   "mimetype": "text/x-python",
   "name": "python",
   "nbconvert_exporter": "python",
   "pygments_lexer": "ipython3",
   "version": "3.7.3"
  }
 },
 "nbformat": 4,
 "nbformat_minor": 2
}
