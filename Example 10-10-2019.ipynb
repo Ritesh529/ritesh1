{
 "cells": [
  {
   "cell_type": "markdown",
   "metadata": {},
   "source": [
    "# Python Pandas"
   ]
  },
  {
   "cell_type": "markdown",
   "metadata": {},
   "source": [
    "### Pandas is the most popular python library that is used for data analysis."
   ]
  },
  {
   "cell_type": "markdown",
   "metadata": {},
   "source": [
    "### We can analyze data in pandas with:\n",
    "### Series  : Series is one dimensional(1-D) array defined in pandas that can be used to store any data type.\n",
    "### DataFrames :DataFrames is two-dimensional(2-D) data structure defined in pandas which consists of rows and columns."
   ]
  },
  {
   "cell_type": "markdown",
   "metadata": {},
   "source": [
    "# Example for series :"
   ]
  },
  {
   "cell_type": "code",
   "execution_count": 7,
   "metadata": {},
   "outputs": [
    {
     "name": "stdout",
     "output_type": "stream",
     "text": [
      "0    1\n",
      "1    2\n",
      "2    4\n",
      "3    6\n",
      "4    7\n",
      "5    8\n",
      "6    4\n",
      "7    3\n",
      "8    5\n",
      "dtype: int64\n"
     ]
    }
   ],
   "source": [
    "import pandas as pd\n",
    "\n",
    "Data = [1,2,4,6,7,8,4,3,5]\n",
    "si = pd.Series(Data)\n",
    "\n",
    "Index = ['a','b','c','d','e','f','g','h','i']\n",
    "\n",
    "sj = pd.Series(Data,Index)\n",
    "print(si)"
   ]
  },
  {
   "cell_type": "markdown",
   "metadata": {},
   "source": [
    "# Example for Dataframe :"
   ]
  },
  {
   "cell_type": "code",
   "execution_count": 11,
   "metadata": {},
   "outputs": [
    {
     "name": "stdout",
     "output_type": "stream",
     "text": [
      "   first  second\n",
      "a    1.0       5\n",
      "b    2.0       6\n",
      "c    3.0       7\n",
      "d    4.0       8\n",
      "e    NaN       9\n"
     ]
    }
   ],
   "source": [
    "import pandas as pd\n",
    "\n",
    "dict1 = {'a' : 1, 'b' : 2, 'c' : 3, 'd' : 4}\n",
    "dict2 = {'a' : 5, 'b' : 6, 'c' : 7, 'd' : 8 , 'e' : 9}\n",
    "Data = {\"first\" : dict1 , \"second\" : dict2}\n",
    "df = pd.DataFrame(Data)\n",
    "print(df)\n"
   ]
  },
  {
   "cell_type": "markdown",
   "metadata": {},
   "source": [
    "## Pandas functions:"
   ]
  },
  {
   "cell_type": "code",
   "execution_count": null,
   "metadata": {},
   "outputs": [],
   "source": [
    "\n",
    "Manipulating data using condition\n",
    "set_index()\n",
    "reset_index()\n",
    "Displaying data using series\n",
    "concat"
   ]
  },
  {
   "cell_type": "code",
   "execution_count": 12,
   "metadata": {},
   "outputs": [
    {
     "data": {
      "text/html": [
       "<div>\n",
       "<style scoped>\n",
       "    .dataframe tbody tr th:only-of-type {\n",
       "        vertical-align: middle;\n",
       "    }\n",
       "\n",
       "    .dataframe tbody tr th {\n",
       "        vertical-align: top;\n",
       "    }\n",
       "\n",
       "    .dataframe thead th {\n",
       "        text-align: right;\n",
       "    }\n",
       "</style>\n",
       "<table border=\"1\" class=\"dataframe\">\n",
       "  <thead>\n",
       "    <tr style=\"text-align: right;\">\n",
       "      <th></th>\n",
       "      <th>PlayerName</th>\n",
       "      <th>Player_Style</th>\n",
       "      <th>Score</th>\n",
       "      <th>JerseyNo</th>\n",
       "    </tr>\n",
       "  </thead>\n",
       "  <tbody>\n",
       "    <tr>\n",
       "      <th>0</th>\n",
       "      <td>Dhawan</td>\n",
       "      <td>Left-hand Batsmen</td>\n",
       "      <td>5500</td>\n",
       "      <td>25</td>\n",
       "    </tr>\n",
       "    <tr>\n",
       "      <th>1</th>\n",
       "      <td>Rohit</td>\n",
       "      <td>Right-hand Batsmen</td>\n",
       "      <td>7100</td>\n",
       "      <td>45</td>\n",
       "    </tr>\n",
       "    <tr>\n",
       "      <th>2</th>\n",
       "      <td>Kohli</td>\n",
       "      <td>Right-hand Batsmen</td>\n",
       "      <td>10210</td>\n",
       "      <td>18</td>\n",
       "    </tr>\n",
       "    <tr>\n",
       "      <th>3</th>\n",
       "      <td>Rahul</td>\n",
       "      <td>Right-hand Batsmen</td>\n",
       "      <td>2780</td>\n",
       "      <td>99</td>\n",
       "    </tr>\n",
       "    <tr>\n",
       "      <th>4</th>\n",
       "      <td>Dhoni</td>\n",
       "      <td>Right-hand Batsmen</td>\n",
       "      <td>10150</td>\n",
       "      <td>7</td>\n",
       "    </tr>\n",
       "    <tr>\n",
       "      <th>5</th>\n",
       "      <td>Kedar</td>\n",
       "      <td>Right-hand Batsmen</td>\n",
       "      <td>1850</td>\n",
       "      <td>64</td>\n",
       "    </tr>\n",
       "    <tr>\n",
       "      <th>6</th>\n",
       "      <td>Jadeja</td>\n",
       "      <td>Left-hand Batsmen</td>\n",
       "      <td>3210</td>\n",
       "      <td>48</td>\n",
       "    </tr>\n",
       "    <tr>\n",
       "      <th>7</th>\n",
       "      <td>Pant</td>\n",
       "      <td>Left-hand Batsmen</td>\n",
       "      <td>1600</td>\n",
       "      <td>15</td>\n",
       "    </tr>\n",
       "    <tr>\n",
       "      <th>8</th>\n",
       "      <td>Pandya</td>\n",
       "      <td>Right-hand Batsmen</td>\n",
       "      <td>2100</td>\n",
       "      <td>66</td>\n",
       "    </tr>\n",
       "    <tr>\n",
       "      <th>9</th>\n",
       "      <td>Kuldeep</td>\n",
       "      <td>Left-hand Batsmen</td>\n",
       "      <td>800</td>\n",
       "      <td>40</td>\n",
       "    </tr>\n",
       "    <tr>\n",
       "      <th>10</th>\n",
       "      <td>Chahal</td>\n",
       "      <td>Right-hand Batsmen</td>\n",
       "      <td>300</td>\n",
       "      <td>11</td>\n",
       "    </tr>\n",
       "    <tr>\n",
       "      <th>11</th>\n",
       "      <td>Kumar</td>\n",
       "      <td>Right-hand Batsmen</td>\n",
       "      <td>1500</td>\n",
       "      <td>91</td>\n",
       "    </tr>\n",
       "    <tr>\n",
       "      <th>12</th>\n",
       "      <td>Shami</td>\n",
       "      <td>Right-hand Batsmen</td>\n",
       "      <td>600</td>\n",
       "      <td>77</td>\n",
       "    </tr>\n",
       "    <tr>\n",
       "      <th>13</th>\n",
       "      <td>Bumrah</td>\n",
       "      <td>Right-hand Batsmen</td>\n",
       "      <td>200</td>\n",
       "      <td>33</td>\n",
       "    </tr>\n",
       "  </tbody>\n",
       "</table>\n",
       "</div>"
      ],
      "text/plain": [
       "   PlayerName        Player_Style  Score  JerseyNo\n",
       "0      Dhawan   Left-hand Batsmen   5500        25\n",
       "1       Rohit  Right-hand Batsmen   7100        45\n",
       "2       Kohli  Right-hand Batsmen  10210        18\n",
       "3       Rahul  Right-hand Batsmen   2780        99\n",
       "4       Dhoni  Right-hand Batsmen  10150         7\n",
       "5       Kedar  Right-hand Batsmen   1850        64\n",
       "6      Jadeja   Left-hand Batsmen   3210        48\n",
       "7        Pant   Left-hand Batsmen   1600        15\n",
       "8      Pandya  Right-hand Batsmen   2100        66\n",
       "9     Kuldeep   Left-hand Batsmen    800        40\n",
       "10     Chahal  Right-hand Batsmen    300        11\n",
       "11      Kumar  Right-hand Batsmen   1500        91\n",
       "12      Shami  Right-hand Batsmen    600        77\n",
       "13     Bumrah  Right-hand Batsmen    200        33"
      ]
     },
     "execution_count": 12,
     "metadata": {},
     "output_type": "execute_result"
    }
   ],
   "source": [
    "import pandas as pd\n",
    "data=pd.DataFrame({'PlayerName' : ['Dhawan','Rohit','Kohli','Rahul','Dhoni','Kedar','Jadeja','Pant','Pandya','Kuldeep','Chahal','Kumar','Shami','Bumrah'],\n",
    "                   'Player_Style' : ['Left-hand Batsmen','Right-hand Batsmen','Right-hand Batsmen','Right-hand Batsmen','Right-hand Batsmen','Right-hand Batsmen','Left-hand Batsmen','Left-hand Batsmen','Right-hand Batsmen','Left-hand Batsmen','Right-hand Batsmen','Right-hand Batsmen','Right-hand Batsmen','Right-hand Batsmen'],\n",
    "                   'Score' : [5500,7100,10210,2780,10150,1850,3210,1600,2100,800,300,1500,600,200],\n",
    "                   'JerseyNo' : [25,45,18,99,7,64,48,15,66,40,11,91,77,33] \n",
    "                  })\n",
    "data"
   ]
  },
  {
   "cell_type": "markdown",
   "metadata": {},
   "source": [
    "### using loc() function to retrieve the specific data from the dataframe by specifying row name and column name\n"
   ]
  },
  {
   "cell_type": "code",
   "execution_count": 14,
   "metadata": {},
   "outputs": [
    {
     "data": {
      "text/plain": [
       "'Dhoni'"
      ]
     },
     "execution_count": 14,
     "metadata": {},
     "output_type": "execute_result"
    }
   ],
   "source": [
    "data.loc[4]['PlayerName']"
   ]
  },
  {
   "cell_type": "markdown",
   "metadata": {},
   "source": [
    "### using iloc() function to retrieve the specific data from the dataframe by specifying row name and column address(i.e 0,1,2....)\n"
   ]
  },
  {
   "cell_type": "code",
   "execution_count": 17,
   "metadata": {},
   "outputs": [
    {
     "data": {
      "text/plain": [
       "'Dhoni'"
      ]
     },
     "execution_count": 17,
     "metadata": {},
     "output_type": "execute_result"
    }
   ],
   "source": [
    "data.iloc[4][0]"
   ]
  },
  {
   "cell_type": "markdown",
   "metadata": {},
   "source": [
    "### using rename() function to rename the column name  type-1\n"
   ]
  },
  {
   "cell_type": "code",
   "execution_count": 18,
   "metadata": {},
   "outputs": [
    {
     "data": {
      "text/html": [
       "<div>\n",
       "<style scoped>\n",
       "    .dataframe tbody tr th:only-of-type {\n",
       "        vertical-align: middle;\n",
       "    }\n",
       "\n",
       "    .dataframe tbody tr th {\n",
       "        vertical-align: top;\n",
       "    }\n",
       "\n",
       "    .dataframe thead th {\n",
       "        text-align: right;\n",
       "    }\n",
       "</style>\n",
       "<table border=\"1\" class=\"dataframe\">\n",
       "  <thead>\n",
       "    <tr style=\"text-align: right;\">\n",
       "      <th></th>\n",
       "      <th>PlayerName</th>\n",
       "      <th>Player_Style</th>\n",
       "      <th>runs</th>\n",
       "      <th>JerseyNo</th>\n",
       "    </tr>\n",
       "  </thead>\n",
       "  <tbody>\n",
       "    <tr>\n",
       "      <th>0</th>\n",
       "      <td>Dhawan</td>\n",
       "      <td>Left-hand Batsmen</td>\n",
       "      <td>5500</td>\n",
       "      <td>25</td>\n",
       "    </tr>\n",
       "    <tr>\n",
       "      <th>1</th>\n",
       "      <td>Rohit</td>\n",
       "      <td>Right-hand Batsmen</td>\n",
       "      <td>7100</td>\n",
       "      <td>45</td>\n",
       "    </tr>\n",
       "    <tr>\n",
       "      <th>2</th>\n",
       "      <td>Kohli</td>\n",
       "      <td>Right-hand Batsmen</td>\n",
       "      <td>10210</td>\n",
       "      <td>18</td>\n",
       "    </tr>\n",
       "    <tr>\n",
       "      <th>3</th>\n",
       "      <td>Rahul</td>\n",
       "      <td>Right-hand Batsmen</td>\n",
       "      <td>2780</td>\n",
       "      <td>99</td>\n",
       "    </tr>\n",
       "    <tr>\n",
       "      <th>4</th>\n",
       "      <td>Dhoni</td>\n",
       "      <td>Right-hand Batsmen</td>\n",
       "      <td>10150</td>\n",
       "      <td>7</td>\n",
       "    </tr>\n",
       "    <tr>\n",
       "      <th>5</th>\n",
       "      <td>Kedar</td>\n",
       "      <td>Right-hand Batsmen</td>\n",
       "      <td>1850</td>\n",
       "      <td>64</td>\n",
       "    </tr>\n",
       "    <tr>\n",
       "      <th>6</th>\n",
       "      <td>Jadeja</td>\n",
       "      <td>Left-hand Batsmen</td>\n",
       "      <td>3210</td>\n",
       "      <td>48</td>\n",
       "    </tr>\n",
       "    <tr>\n",
       "      <th>7</th>\n",
       "      <td>Pant</td>\n",
       "      <td>Left-hand Batsmen</td>\n",
       "      <td>1600</td>\n",
       "      <td>15</td>\n",
       "    </tr>\n",
       "    <tr>\n",
       "      <th>8</th>\n",
       "      <td>Pandya</td>\n",
       "      <td>Right-hand Batsmen</td>\n",
       "      <td>2100</td>\n",
       "      <td>66</td>\n",
       "    </tr>\n",
       "    <tr>\n",
       "      <th>9</th>\n",
       "      <td>Kuldeep</td>\n",
       "      <td>Left-hand Batsmen</td>\n",
       "      <td>800</td>\n",
       "      <td>40</td>\n",
       "    </tr>\n",
       "    <tr>\n",
       "      <th>10</th>\n",
       "      <td>Chahal</td>\n",
       "      <td>Right-hand Batsmen</td>\n",
       "      <td>300</td>\n",
       "      <td>11</td>\n",
       "    </tr>\n",
       "    <tr>\n",
       "      <th>11</th>\n",
       "      <td>Kumar</td>\n",
       "      <td>Right-hand Batsmen</td>\n",
       "      <td>1500</td>\n",
       "      <td>91</td>\n",
       "    </tr>\n",
       "    <tr>\n",
       "      <th>12</th>\n",
       "      <td>Shami</td>\n",
       "      <td>Right-hand Batsmen</td>\n",
       "      <td>600</td>\n",
       "      <td>77</td>\n",
       "    </tr>\n",
       "    <tr>\n",
       "      <th>13</th>\n",
       "      <td>Bumrah</td>\n",
       "      <td>Right-hand Batsmen</td>\n",
       "      <td>200</td>\n",
       "      <td>33</td>\n",
       "    </tr>\n",
       "  </tbody>\n",
       "</table>\n",
       "</div>"
      ],
      "text/plain": [
       "   PlayerName        Player_Style   runs  JerseyNo\n",
       "0      Dhawan   Left-hand Batsmen   5500        25\n",
       "1       Rohit  Right-hand Batsmen   7100        45\n",
       "2       Kohli  Right-hand Batsmen  10210        18\n",
       "3       Rahul  Right-hand Batsmen   2780        99\n",
       "4       Dhoni  Right-hand Batsmen  10150         7\n",
       "5       Kedar  Right-hand Batsmen   1850        64\n",
       "6      Jadeja   Left-hand Batsmen   3210        48\n",
       "7        Pant   Left-hand Batsmen   1600        15\n",
       "8      Pandya  Right-hand Batsmen   2100        66\n",
       "9     Kuldeep   Left-hand Batsmen    800        40\n",
       "10     Chahal  Right-hand Batsmen    300        11\n",
       "11      Kumar  Right-hand Batsmen   1500        91\n",
       "12      Shami  Right-hand Batsmen    600        77\n",
       "13     Bumrah  Right-hand Batsmen    200        33"
      ]
     },
     "execution_count": 18,
     "metadata": {},
     "output_type": "execute_result"
    }
   ],
   "source": [
    "data.rename({'Score':'runs'},axis='columns')"
   ]
  },
  {
   "cell_type": "markdown",
   "metadata": {},
   "source": [
    "### using rename() function to rename the column name  type-2\n"
   ]
  },
  {
   "cell_type": "code",
   "execution_count": 22,
   "metadata": {},
   "outputs": [
    {
     "data": {
      "text/html": [
       "<div>\n",
       "<style scoped>\n",
       "    .dataframe tbody tr th:only-of-type {\n",
       "        vertical-align: middle;\n",
       "    }\n",
       "\n",
       "    .dataframe tbody tr th {\n",
       "        vertical-align: top;\n",
       "    }\n",
       "\n",
       "    .dataframe thead th {\n",
       "        text-align: right;\n",
       "    }\n",
       "</style>\n",
       "<table border=\"1\" class=\"dataframe\">\n",
       "  <thead>\n",
       "    <tr style=\"text-align: right;\">\n",
       "      <th></th>\n",
       "      <th>PlayerName</th>\n",
       "      <th>Player_Style</th>\n",
       "      <th>Runs</th>\n",
       "      <th>JerseyNo</th>\n",
       "    </tr>\n",
       "  </thead>\n",
       "  <tbody>\n",
       "    <tr>\n",
       "      <th>0</th>\n",
       "      <td>Dhawan</td>\n",
       "      <td>Left-hand Batsmen</td>\n",
       "      <td>5500</td>\n",
       "      <td>25</td>\n",
       "    </tr>\n",
       "    <tr>\n",
       "      <th>1</th>\n",
       "      <td>Rohit</td>\n",
       "      <td>Right-hand Batsmen</td>\n",
       "      <td>7100</td>\n",
       "      <td>45</td>\n",
       "    </tr>\n",
       "    <tr>\n",
       "      <th>2</th>\n",
       "      <td>Kohli</td>\n",
       "      <td>Right-hand Batsmen</td>\n",
       "      <td>10210</td>\n",
       "      <td>18</td>\n",
       "    </tr>\n",
       "    <tr>\n",
       "      <th>3</th>\n",
       "      <td>Rahul</td>\n",
       "      <td>Right-hand Batsmen</td>\n",
       "      <td>2780</td>\n",
       "      <td>99</td>\n",
       "    </tr>\n",
       "    <tr>\n",
       "      <th>4</th>\n",
       "      <td>Dhoni</td>\n",
       "      <td>Right-hand Batsmen</td>\n",
       "      <td>10150</td>\n",
       "      <td>7</td>\n",
       "    </tr>\n",
       "    <tr>\n",
       "      <th>5</th>\n",
       "      <td>Kedar</td>\n",
       "      <td>Right-hand Batsmen</td>\n",
       "      <td>1850</td>\n",
       "      <td>64</td>\n",
       "    </tr>\n",
       "    <tr>\n",
       "      <th>6</th>\n",
       "      <td>Jadeja</td>\n",
       "      <td>Left-hand Batsmen</td>\n",
       "      <td>3210</td>\n",
       "      <td>48</td>\n",
       "    </tr>\n",
       "    <tr>\n",
       "      <th>7</th>\n",
       "      <td>Pant</td>\n",
       "      <td>Left-hand Batsmen</td>\n",
       "      <td>1600</td>\n",
       "      <td>15</td>\n",
       "    </tr>\n",
       "    <tr>\n",
       "      <th>8</th>\n",
       "      <td>Pandya</td>\n",
       "      <td>Right-hand Batsmen</td>\n",
       "      <td>2100</td>\n",
       "      <td>66</td>\n",
       "    </tr>\n",
       "    <tr>\n",
       "      <th>9</th>\n",
       "      <td>Kuldeep</td>\n",
       "      <td>Left-hand Batsmen</td>\n",
       "      <td>800</td>\n",
       "      <td>40</td>\n",
       "    </tr>\n",
       "    <tr>\n",
       "      <th>10</th>\n",
       "      <td>Chahal</td>\n",
       "      <td>Right-hand Batsmen</td>\n",
       "      <td>300</td>\n",
       "      <td>11</td>\n",
       "    </tr>\n",
       "    <tr>\n",
       "      <th>11</th>\n",
       "      <td>Kumar</td>\n",
       "      <td>Right-hand Batsmen</td>\n",
       "      <td>1500</td>\n",
       "      <td>91</td>\n",
       "    </tr>\n",
       "    <tr>\n",
       "      <th>12</th>\n",
       "      <td>Shami</td>\n",
       "      <td>Right-hand Batsmen</td>\n",
       "      <td>600</td>\n",
       "      <td>77</td>\n",
       "    </tr>\n",
       "    <tr>\n",
       "      <th>13</th>\n",
       "      <td>Bumrah</td>\n",
       "      <td>Right-hand Batsmen</td>\n",
       "      <td>200</td>\n",
       "      <td>33</td>\n",
       "    </tr>\n",
       "  </tbody>\n",
       "</table>\n",
       "</div>"
      ],
      "text/plain": [
       "   PlayerName        Player_Style   Runs  JerseyNo\n",
       "0      Dhawan   Left-hand Batsmen   5500        25\n",
       "1       Rohit  Right-hand Batsmen   7100        45\n",
       "2       Kohli  Right-hand Batsmen  10210        18\n",
       "3       Rahul  Right-hand Batsmen   2780        99\n",
       "4       Dhoni  Right-hand Batsmen  10150         7\n",
       "5       Kedar  Right-hand Batsmen   1850        64\n",
       "6      Jadeja   Left-hand Batsmen   3210        48\n",
       "7        Pant   Left-hand Batsmen   1600        15\n",
       "8      Pandya  Right-hand Batsmen   2100        66\n",
       "9     Kuldeep   Left-hand Batsmen    800        40\n",
       "10     Chahal  Right-hand Batsmen    300        11\n",
       "11      Kumar  Right-hand Batsmen   1500        91\n",
       "12      Shami  Right-hand Batsmen    600        77\n",
       "13     Bumrah  Right-hand Batsmen    200        33"
      ]
     },
     "execution_count": 22,
     "metadata": {},
     "output_type": "execute_result"
    }
   ],
   "source": [
    "data.rename(columns = {'Score':'Runs'})"
   ]
  },
  {
   "cell_type": "markdown",
   "metadata": {},
   "source": [
    "### type function specifies the whether the output is series or dataframe\n"
   ]
  },
  {
   "cell_type": "code",
   "execution_count": 23,
   "metadata": {},
   "outputs": [
    {
     "data": {
      "text/plain": [
       "pandas.core.series.Series"
      ]
     },
     "execution_count": 23,
     "metadata": {},
     "output_type": "execute_result"
    }
   ],
   "source": [
    "type(data.PlayerName)"
   ]
  },
  {
   "cell_type": "markdown",
   "metadata": {},
   "source": [
    " ### using drop () for removing the  first row of the dataframe.\n"
   ]
  },
  {
   "cell_type": "code",
   "execution_count": 24,
   "metadata": {},
   "outputs": [
    {
     "data": {
      "text/html": [
       "<div>\n",
       "<style scoped>\n",
       "    .dataframe tbody tr th:only-of-type {\n",
       "        vertical-align: middle;\n",
       "    }\n",
       "\n",
       "    .dataframe tbody tr th {\n",
       "        vertical-align: top;\n",
       "    }\n",
       "\n",
       "    .dataframe thead th {\n",
       "        text-align: right;\n",
       "    }\n",
       "</style>\n",
       "<table border=\"1\" class=\"dataframe\">\n",
       "  <thead>\n",
       "    <tr style=\"text-align: right;\">\n",
       "      <th></th>\n",
       "      <th>PlayerName</th>\n",
       "      <th>Player_Style</th>\n",
       "      <th>Score</th>\n",
       "      <th>JerseyNo</th>\n",
       "    </tr>\n",
       "  </thead>\n",
       "  <tbody>\n",
       "    <tr>\n",
       "      <th>1</th>\n",
       "      <td>Rohit</td>\n",
       "      <td>Right-hand Batsmen</td>\n",
       "      <td>7100</td>\n",
       "      <td>45</td>\n",
       "    </tr>\n",
       "    <tr>\n",
       "      <th>2</th>\n",
       "      <td>Kohli</td>\n",
       "      <td>Right-hand Batsmen</td>\n",
       "      <td>10210</td>\n",
       "      <td>18</td>\n",
       "    </tr>\n",
       "    <tr>\n",
       "      <th>3</th>\n",
       "      <td>Rahul</td>\n",
       "      <td>Right-hand Batsmen</td>\n",
       "      <td>2780</td>\n",
       "      <td>99</td>\n",
       "    </tr>\n",
       "    <tr>\n",
       "      <th>4</th>\n",
       "      <td>Dhoni</td>\n",
       "      <td>Right-hand Batsmen</td>\n",
       "      <td>10150</td>\n",
       "      <td>7</td>\n",
       "    </tr>\n",
       "    <tr>\n",
       "      <th>5</th>\n",
       "      <td>Kedar</td>\n",
       "      <td>Right-hand Batsmen</td>\n",
       "      <td>1850</td>\n",
       "      <td>64</td>\n",
       "    </tr>\n",
       "    <tr>\n",
       "      <th>6</th>\n",
       "      <td>Jadeja</td>\n",
       "      <td>Left-hand Batsmen</td>\n",
       "      <td>3210</td>\n",
       "      <td>48</td>\n",
       "    </tr>\n",
       "    <tr>\n",
       "      <th>7</th>\n",
       "      <td>Pant</td>\n",
       "      <td>Left-hand Batsmen</td>\n",
       "      <td>1600</td>\n",
       "      <td>15</td>\n",
       "    </tr>\n",
       "    <tr>\n",
       "      <th>8</th>\n",
       "      <td>Pandya</td>\n",
       "      <td>Right-hand Batsmen</td>\n",
       "      <td>2100</td>\n",
       "      <td>66</td>\n",
       "    </tr>\n",
       "    <tr>\n",
       "      <th>9</th>\n",
       "      <td>Kuldeep</td>\n",
       "      <td>Left-hand Batsmen</td>\n",
       "      <td>800</td>\n",
       "      <td>40</td>\n",
       "    </tr>\n",
       "    <tr>\n",
       "      <th>10</th>\n",
       "      <td>Chahal</td>\n",
       "      <td>Right-hand Batsmen</td>\n",
       "      <td>300</td>\n",
       "      <td>11</td>\n",
       "    </tr>\n",
       "    <tr>\n",
       "      <th>11</th>\n",
       "      <td>Kumar</td>\n",
       "      <td>Right-hand Batsmen</td>\n",
       "      <td>1500</td>\n",
       "      <td>91</td>\n",
       "    </tr>\n",
       "    <tr>\n",
       "      <th>12</th>\n",
       "      <td>Shami</td>\n",
       "      <td>Right-hand Batsmen</td>\n",
       "      <td>600</td>\n",
       "      <td>77</td>\n",
       "    </tr>\n",
       "    <tr>\n",
       "      <th>13</th>\n",
       "      <td>Bumrah</td>\n",
       "      <td>Right-hand Batsmen</td>\n",
       "      <td>200</td>\n",
       "      <td>33</td>\n",
       "    </tr>\n",
       "  </tbody>\n",
       "</table>\n",
       "</div>"
      ],
      "text/plain": [
       "   PlayerName        Player_Style  Score  JerseyNo\n",
       "1       Rohit  Right-hand Batsmen   7100        45\n",
       "2       Kohli  Right-hand Batsmen  10210        18\n",
       "3       Rahul  Right-hand Batsmen   2780        99\n",
       "4       Dhoni  Right-hand Batsmen  10150         7\n",
       "5       Kedar  Right-hand Batsmen   1850        64\n",
       "6      Jadeja   Left-hand Batsmen   3210        48\n",
       "7        Pant   Left-hand Batsmen   1600        15\n",
       "8      Pandya  Right-hand Batsmen   2100        66\n",
       "9     Kuldeep   Left-hand Batsmen    800        40\n",
       "10     Chahal  Right-hand Batsmen    300        11\n",
       "11      Kumar  Right-hand Batsmen   1500        91\n",
       "12      Shami  Right-hand Batsmen    600        77\n",
       "13     Bumrah  Right-hand Batsmen    200        33"
      ]
     },
     "execution_count": 24,
     "metadata": {},
     "output_type": "execute_result"
    }
   ],
   "source": [
    "data.drop([0],axis=0)  # Removing the  first row"
   ]
  },
  {
   "cell_type": "markdown",
   "metadata": {},
   "source": [
    "### using drop () for removing the  first column of the dataframe \n"
   ]
  },
  {
   "cell_type": "code",
   "execution_count": 25,
   "metadata": {},
   "outputs": [
    {
     "data": {
      "text/html": [
       "<div>\n",
       "<style scoped>\n",
       "    .dataframe tbody tr th:only-of-type {\n",
       "        vertical-align: middle;\n",
       "    }\n",
       "\n",
       "    .dataframe tbody tr th {\n",
       "        vertical-align: top;\n",
       "    }\n",
       "\n",
       "    .dataframe thead th {\n",
       "        text-align: right;\n",
       "    }\n",
       "</style>\n",
       "<table border=\"1\" class=\"dataframe\">\n",
       "  <thead>\n",
       "    <tr style=\"text-align: right;\">\n",
       "      <th></th>\n",
       "      <th>Player_Style</th>\n",
       "      <th>Score</th>\n",
       "      <th>JerseyNo</th>\n",
       "    </tr>\n",
       "  </thead>\n",
       "  <tbody>\n",
       "    <tr>\n",
       "      <th>0</th>\n",
       "      <td>Left-hand Batsmen</td>\n",
       "      <td>5500</td>\n",
       "      <td>25</td>\n",
       "    </tr>\n",
       "    <tr>\n",
       "      <th>1</th>\n",
       "      <td>Right-hand Batsmen</td>\n",
       "      <td>7100</td>\n",
       "      <td>45</td>\n",
       "    </tr>\n",
       "    <tr>\n",
       "      <th>2</th>\n",
       "      <td>Right-hand Batsmen</td>\n",
       "      <td>10210</td>\n",
       "      <td>18</td>\n",
       "    </tr>\n",
       "    <tr>\n",
       "      <th>3</th>\n",
       "      <td>Right-hand Batsmen</td>\n",
       "      <td>2780</td>\n",
       "      <td>99</td>\n",
       "    </tr>\n",
       "    <tr>\n",
       "      <th>4</th>\n",
       "      <td>Right-hand Batsmen</td>\n",
       "      <td>10150</td>\n",
       "      <td>7</td>\n",
       "    </tr>\n",
       "    <tr>\n",
       "      <th>5</th>\n",
       "      <td>Right-hand Batsmen</td>\n",
       "      <td>1850</td>\n",
       "      <td>64</td>\n",
       "    </tr>\n",
       "    <tr>\n",
       "      <th>6</th>\n",
       "      <td>Left-hand Batsmen</td>\n",
       "      <td>3210</td>\n",
       "      <td>48</td>\n",
       "    </tr>\n",
       "    <tr>\n",
       "      <th>7</th>\n",
       "      <td>Left-hand Batsmen</td>\n",
       "      <td>1600</td>\n",
       "      <td>15</td>\n",
       "    </tr>\n",
       "    <tr>\n",
       "      <th>8</th>\n",
       "      <td>Right-hand Batsmen</td>\n",
       "      <td>2100</td>\n",
       "      <td>66</td>\n",
       "    </tr>\n",
       "    <tr>\n",
       "      <th>9</th>\n",
       "      <td>Left-hand Batsmen</td>\n",
       "      <td>800</td>\n",
       "      <td>40</td>\n",
       "    </tr>\n",
       "    <tr>\n",
       "      <th>10</th>\n",
       "      <td>Right-hand Batsmen</td>\n",
       "      <td>300</td>\n",
       "      <td>11</td>\n",
       "    </tr>\n",
       "    <tr>\n",
       "      <th>11</th>\n",
       "      <td>Right-hand Batsmen</td>\n",
       "      <td>1500</td>\n",
       "      <td>91</td>\n",
       "    </tr>\n",
       "    <tr>\n",
       "      <th>12</th>\n",
       "      <td>Right-hand Batsmen</td>\n",
       "      <td>600</td>\n",
       "      <td>77</td>\n",
       "    </tr>\n",
       "    <tr>\n",
       "      <th>13</th>\n",
       "      <td>Right-hand Batsmen</td>\n",
       "      <td>200</td>\n",
       "      <td>33</td>\n",
       "    </tr>\n",
       "  </tbody>\n",
       "</table>\n",
       "</div>"
      ],
      "text/plain": [
       "          Player_Style  Score  JerseyNo\n",
       "0    Left-hand Batsmen   5500        25\n",
       "1   Right-hand Batsmen   7100        45\n",
       "2   Right-hand Batsmen  10210        18\n",
       "3   Right-hand Batsmen   2780        99\n",
       "4   Right-hand Batsmen  10150         7\n",
       "5   Right-hand Batsmen   1850        64\n",
       "6    Left-hand Batsmen   3210        48\n",
       "7    Left-hand Batsmen   1600        15\n",
       "8   Right-hand Batsmen   2100        66\n",
       "9    Left-hand Batsmen    800        40\n",
       "10  Right-hand Batsmen    300        11\n",
       "11  Right-hand Batsmen   1500        91\n",
       "12  Right-hand Batsmen    600        77\n",
       "13  Right-hand Batsmen    200        33"
      ]
     },
     "execution_count": 25,
     "metadata": {},
     "output_type": "execute_result"
    }
   ],
   "source": [
    "data.drop('PlayerName',axis=1)"
   ]
  },
  {
   "cell_type": "markdown",
   "metadata": {},
   "source": [
    "### Sorting the dataframe using sort_values() function bydefault it is sorts into ascending order.\n"
   ]
  },
  {
   "cell_type": "code",
   "execution_count": 26,
   "metadata": {},
   "outputs": [
    {
     "data": {
      "text/html": [
       "<div>\n",
       "<style scoped>\n",
       "    .dataframe tbody tr th:only-of-type {\n",
       "        vertical-align: middle;\n",
       "    }\n",
       "\n",
       "    .dataframe tbody tr th {\n",
       "        vertical-align: top;\n",
       "    }\n",
       "\n",
       "    .dataframe thead th {\n",
       "        text-align: right;\n",
       "    }\n",
       "</style>\n",
       "<table border=\"1\" class=\"dataframe\">\n",
       "  <thead>\n",
       "    <tr style=\"text-align: right;\">\n",
       "      <th></th>\n",
       "      <th>PlayerName</th>\n",
       "      <th>Player_Style</th>\n",
       "      <th>Score</th>\n",
       "      <th>JerseyNo</th>\n",
       "    </tr>\n",
       "  </thead>\n",
       "  <tbody>\n",
       "    <tr>\n",
       "      <th>13</th>\n",
       "      <td>Bumrah</td>\n",
       "      <td>Right-hand Batsmen</td>\n",
       "      <td>200</td>\n",
       "      <td>33</td>\n",
       "    </tr>\n",
       "    <tr>\n",
       "      <th>10</th>\n",
       "      <td>Chahal</td>\n",
       "      <td>Right-hand Batsmen</td>\n",
       "      <td>300</td>\n",
       "      <td>11</td>\n",
       "    </tr>\n",
       "    <tr>\n",
       "      <th>0</th>\n",
       "      <td>Dhawan</td>\n",
       "      <td>Left-hand Batsmen</td>\n",
       "      <td>5500</td>\n",
       "      <td>25</td>\n",
       "    </tr>\n",
       "    <tr>\n",
       "      <th>4</th>\n",
       "      <td>Dhoni</td>\n",
       "      <td>Right-hand Batsmen</td>\n",
       "      <td>10150</td>\n",
       "      <td>7</td>\n",
       "    </tr>\n",
       "    <tr>\n",
       "      <th>6</th>\n",
       "      <td>Jadeja</td>\n",
       "      <td>Left-hand Batsmen</td>\n",
       "      <td>3210</td>\n",
       "      <td>48</td>\n",
       "    </tr>\n",
       "    <tr>\n",
       "      <th>5</th>\n",
       "      <td>Kedar</td>\n",
       "      <td>Right-hand Batsmen</td>\n",
       "      <td>1850</td>\n",
       "      <td>64</td>\n",
       "    </tr>\n",
       "    <tr>\n",
       "      <th>2</th>\n",
       "      <td>Kohli</td>\n",
       "      <td>Right-hand Batsmen</td>\n",
       "      <td>10210</td>\n",
       "      <td>18</td>\n",
       "    </tr>\n",
       "    <tr>\n",
       "      <th>9</th>\n",
       "      <td>Kuldeep</td>\n",
       "      <td>Left-hand Batsmen</td>\n",
       "      <td>800</td>\n",
       "      <td>40</td>\n",
       "    </tr>\n",
       "    <tr>\n",
       "      <th>11</th>\n",
       "      <td>Kumar</td>\n",
       "      <td>Right-hand Batsmen</td>\n",
       "      <td>1500</td>\n",
       "      <td>91</td>\n",
       "    </tr>\n",
       "    <tr>\n",
       "      <th>8</th>\n",
       "      <td>Pandya</td>\n",
       "      <td>Right-hand Batsmen</td>\n",
       "      <td>2100</td>\n",
       "      <td>66</td>\n",
       "    </tr>\n",
       "    <tr>\n",
       "      <th>7</th>\n",
       "      <td>Pant</td>\n",
       "      <td>Left-hand Batsmen</td>\n",
       "      <td>1600</td>\n",
       "      <td>15</td>\n",
       "    </tr>\n",
       "    <tr>\n",
       "      <th>3</th>\n",
       "      <td>Rahul</td>\n",
       "      <td>Right-hand Batsmen</td>\n",
       "      <td>2780</td>\n",
       "      <td>99</td>\n",
       "    </tr>\n",
       "    <tr>\n",
       "      <th>1</th>\n",
       "      <td>Rohit</td>\n",
       "      <td>Right-hand Batsmen</td>\n",
       "      <td>7100</td>\n",
       "      <td>45</td>\n",
       "    </tr>\n",
       "    <tr>\n",
       "      <th>12</th>\n",
       "      <td>Shami</td>\n",
       "      <td>Right-hand Batsmen</td>\n",
       "      <td>600</td>\n",
       "      <td>77</td>\n",
       "    </tr>\n",
       "  </tbody>\n",
       "</table>\n",
       "</div>"
      ],
      "text/plain": [
       "   PlayerName        Player_Style  Score  JerseyNo\n",
       "13     Bumrah  Right-hand Batsmen    200        33\n",
       "10     Chahal  Right-hand Batsmen    300        11\n",
       "0      Dhawan   Left-hand Batsmen   5500        25\n",
       "4       Dhoni  Right-hand Batsmen  10150         7\n",
       "6      Jadeja   Left-hand Batsmen   3210        48\n",
       "5       Kedar  Right-hand Batsmen   1850        64\n",
       "2       Kohli  Right-hand Batsmen  10210        18\n",
       "9     Kuldeep   Left-hand Batsmen    800        40\n",
       "11      Kumar  Right-hand Batsmen   1500        91\n",
       "8      Pandya  Right-hand Batsmen   2100        66\n",
       "7        Pant   Left-hand Batsmen   1600        15\n",
       "3       Rahul  Right-hand Batsmen   2780        99\n",
       "1       Rohit  Right-hand Batsmen   7100        45\n",
       "12      Shami  Right-hand Batsmen    600        77"
      ]
     },
     "execution_count": 26,
     "metadata": {},
     "output_type": "execute_result"
    }
   ],
   "source": [
    "data.sort_values('PlayerName')"
   ]
  },
  {
   "cell_type": "markdown",
   "metadata": {},
   "source": [
    "### Sorting the dataframe using sort_values() function bydefault it is sorts into ascending order\n",
    "### to sort it in descending order we should specify ascending = False.\n"
   ]
  },
  {
   "cell_type": "code",
   "execution_count": 29,
   "metadata": {},
   "outputs": [
    {
     "data": {
      "text/html": [
       "<div>\n",
       "<style scoped>\n",
       "    .dataframe tbody tr th:only-of-type {\n",
       "        vertical-align: middle;\n",
       "    }\n",
       "\n",
       "    .dataframe tbody tr th {\n",
       "        vertical-align: top;\n",
       "    }\n",
       "\n",
       "    .dataframe thead th {\n",
       "        text-align: right;\n",
       "    }\n",
       "</style>\n",
       "<table border=\"1\" class=\"dataframe\">\n",
       "  <thead>\n",
       "    <tr style=\"text-align: right;\">\n",
       "      <th></th>\n",
       "      <th>PlayerName</th>\n",
       "      <th>Player_Style</th>\n",
       "      <th>Score</th>\n",
       "      <th>JerseyNo</th>\n",
       "    </tr>\n",
       "  </thead>\n",
       "  <tbody>\n",
       "    <tr>\n",
       "      <th>12</th>\n",
       "      <td>Shami</td>\n",
       "      <td>Right-hand Batsmen</td>\n",
       "      <td>600</td>\n",
       "      <td>77</td>\n",
       "    </tr>\n",
       "    <tr>\n",
       "      <th>1</th>\n",
       "      <td>Rohit</td>\n",
       "      <td>Right-hand Batsmen</td>\n",
       "      <td>7100</td>\n",
       "      <td>45</td>\n",
       "    </tr>\n",
       "    <tr>\n",
       "      <th>3</th>\n",
       "      <td>Rahul</td>\n",
       "      <td>Right-hand Batsmen</td>\n",
       "      <td>2780</td>\n",
       "      <td>99</td>\n",
       "    </tr>\n",
       "    <tr>\n",
       "      <th>7</th>\n",
       "      <td>Pant</td>\n",
       "      <td>Left-hand Batsmen</td>\n",
       "      <td>1600</td>\n",
       "      <td>15</td>\n",
       "    </tr>\n",
       "    <tr>\n",
       "      <th>8</th>\n",
       "      <td>Pandya</td>\n",
       "      <td>Right-hand Batsmen</td>\n",
       "      <td>2100</td>\n",
       "      <td>66</td>\n",
       "    </tr>\n",
       "    <tr>\n",
       "      <th>11</th>\n",
       "      <td>Kumar</td>\n",
       "      <td>Right-hand Batsmen</td>\n",
       "      <td>1500</td>\n",
       "      <td>91</td>\n",
       "    </tr>\n",
       "    <tr>\n",
       "      <th>9</th>\n",
       "      <td>Kuldeep</td>\n",
       "      <td>Left-hand Batsmen</td>\n",
       "      <td>800</td>\n",
       "      <td>40</td>\n",
       "    </tr>\n",
       "    <tr>\n",
       "      <th>2</th>\n",
       "      <td>Kohli</td>\n",
       "      <td>Right-hand Batsmen</td>\n",
       "      <td>10210</td>\n",
       "      <td>18</td>\n",
       "    </tr>\n",
       "    <tr>\n",
       "      <th>5</th>\n",
       "      <td>Kedar</td>\n",
       "      <td>Right-hand Batsmen</td>\n",
       "      <td>1850</td>\n",
       "      <td>64</td>\n",
       "    </tr>\n",
       "    <tr>\n",
       "      <th>6</th>\n",
       "      <td>Jadeja</td>\n",
       "      <td>Left-hand Batsmen</td>\n",
       "      <td>3210</td>\n",
       "      <td>48</td>\n",
       "    </tr>\n",
       "    <tr>\n",
       "      <th>4</th>\n",
       "      <td>Dhoni</td>\n",
       "      <td>Right-hand Batsmen</td>\n",
       "      <td>10150</td>\n",
       "      <td>7</td>\n",
       "    </tr>\n",
       "    <tr>\n",
       "      <th>0</th>\n",
       "      <td>Dhawan</td>\n",
       "      <td>Left-hand Batsmen</td>\n",
       "      <td>5500</td>\n",
       "      <td>25</td>\n",
       "    </tr>\n",
       "    <tr>\n",
       "      <th>10</th>\n",
       "      <td>Chahal</td>\n",
       "      <td>Right-hand Batsmen</td>\n",
       "      <td>300</td>\n",
       "      <td>11</td>\n",
       "    </tr>\n",
       "    <tr>\n",
       "      <th>13</th>\n",
       "      <td>Bumrah</td>\n",
       "      <td>Right-hand Batsmen</td>\n",
       "      <td>200</td>\n",
       "      <td>33</td>\n",
       "    </tr>\n",
       "  </tbody>\n",
       "</table>\n",
       "</div>"
      ],
      "text/plain": [
       "   PlayerName        Player_Style  Score  JerseyNo\n",
       "12      Shami  Right-hand Batsmen    600        77\n",
       "1       Rohit  Right-hand Batsmen   7100        45\n",
       "3       Rahul  Right-hand Batsmen   2780        99\n",
       "7        Pant   Left-hand Batsmen   1600        15\n",
       "8      Pandya  Right-hand Batsmen   2100        66\n",
       "11      Kumar  Right-hand Batsmen   1500        91\n",
       "9     Kuldeep   Left-hand Batsmen    800        40\n",
       "2       Kohli  Right-hand Batsmen  10210        18\n",
       "5       Kedar  Right-hand Batsmen   1850        64\n",
       "6      Jadeja   Left-hand Batsmen   3210        48\n",
       "4       Dhoni  Right-hand Batsmen  10150         7\n",
       "0      Dhawan   Left-hand Batsmen   5500        25\n",
       "10     Chahal  Right-hand Batsmen    300        11\n",
       "13     Bumrah  Right-hand Batsmen    200        33"
      ]
     },
     "execution_count": 29,
     "metadata": {},
     "output_type": "execute_result"
    }
   ],
   "source": [
    "data.sort_values('PlayerName',ascending=False)"
   ]
  },
  {
   "cell_type": "markdown",
   "metadata": {},
   "source": [
    "### Another method of sorting the dataframe here we can specify directly the column name and use sort_values() function.\n"
   ]
  },
  {
   "cell_type": "code",
   "execution_count": 31,
   "metadata": {},
   "outputs": [
    {
     "data": {
      "text/plain": [
       "13      200\n",
       "10      300\n",
       "12      600\n",
       "9       800\n",
       "11     1500\n",
       "7      1600\n",
       "5      1850\n",
       "8      2100\n",
       "3      2780\n",
       "6      3210\n",
       "0      5500\n",
       "1      7100\n",
       "4     10150\n",
       "2     10210\n",
       "Name: Score, dtype: int64"
      ]
     },
     "execution_count": 31,
     "metadata": {},
     "output_type": "execute_result"
    }
   ],
   "source": [
    "data.Score.sort_values()"
   ]
  },
  {
   "cell_type": "markdown",
   "metadata": {},
   "source": [
    "### Function to manipulate the dataframe providing the condition."
   ]
  },
  {
   "cell_type": "code",
   "execution_count": 32,
   "metadata": {},
   "outputs": [
    {
     "data": {
      "text/html": [
       "<div>\n",
       "<style scoped>\n",
       "    .dataframe tbody tr th:only-of-type {\n",
       "        vertical-align: middle;\n",
       "    }\n",
       "\n",
       "    .dataframe tbody tr th {\n",
       "        vertical-align: top;\n",
       "    }\n",
       "\n",
       "    .dataframe thead th {\n",
       "        text-align: right;\n",
       "    }\n",
       "</style>\n",
       "<table border=\"1\" class=\"dataframe\">\n",
       "  <thead>\n",
       "    <tr style=\"text-align: right;\">\n",
       "      <th></th>\n",
       "      <th>PlayerName</th>\n",
       "      <th>Player_Style</th>\n",
       "      <th>Score</th>\n",
       "      <th>JerseyNo</th>\n",
       "    </tr>\n",
       "  </thead>\n",
       "  <tbody>\n",
       "    <tr>\n",
       "      <th>1</th>\n",
       "      <td>Rohit</td>\n",
       "      <td>Right-hand Batsmen</td>\n",
       "      <td>7100</td>\n",
       "      <td>45</td>\n",
       "    </tr>\n",
       "    <tr>\n",
       "      <th>2</th>\n",
       "      <td>Kohli</td>\n",
       "      <td>Right-hand Batsmen</td>\n",
       "      <td>10210</td>\n",
       "      <td>18</td>\n",
       "    </tr>\n",
       "    <tr>\n",
       "      <th>4</th>\n",
       "      <td>Dhoni</td>\n",
       "      <td>Right-hand Batsmen</td>\n",
       "      <td>10150</td>\n",
       "      <td>7</td>\n",
       "    </tr>\n",
       "  </tbody>\n",
       "</table>\n",
       "</div>"
      ],
      "text/plain": [
       "  PlayerName        Player_Style  Score  JerseyNo\n",
       "1      Rohit  Right-hand Batsmen   7100        45\n",
       "2      Kohli  Right-hand Batsmen  10210        18\n",
       "4      Dhoni  Right-hand Batsmen  10150         7"
      ]
     },
     "execution_count": 32,
     "metadata": {},
     "output_type": "execute_result"
    }
   ],
   "source": [
    "data[data.Score>=7000]"
   ]
  },
  {
   "cell_type": "code",
   "execution_count": null,
   "metadata": {},
   "outputs": [],
   "source": []
  },
  {
   "cell_type": "code",
   "execution_count": 44,
   "metadata": {},
   "outputs": [
    {
     "data": {
      "text/html": [
       "<div>\n",
       "<style scoped>\n",
       "    .dataframe tbody tr th:only-of-type {\n",
       "        vertical-align: middle;\n",
       "    }\n",
       "\n",
       "    .dataframe tbody tr th {\n",
       "        vertical-align: top;\n",
       "    }\n",
       "\n",
       "    .dataframe thead th {\n",
       "        text-align: right;\n",
       "    }\n",
       "</style>\n",
       "<table border=\"1\" class=\"dataframe\">\n",
       "  <thead>\n",
       "    <tr style=\"text-align: right;\">\n",
       "      <th></th>\n",
       "      <th>index</th>\n",
       "      <th>PlayerName</th>\n",
       "      <th>Player_Style</th>\n",
       "      <th>Score</th>\n",
       "    </tr>\n",
       "    <tr>\n",
       "      <th>JerseyNo</th>\n",
       "      <th></th>\n",
       "      <th></th>\n",
       "      <th></th>\n",
       "      <th></th>\n",
       "    </tr>\n",
       "  </thead>\n",
       "  <tbody>\n",
       "    <tr>\n",
       "      <th>25</th>\n",
       "      <td>0</td>\n",
       "      <td>Dhawan</td>\n",
       "      <td>Left-hand Batsmen</td>\n",
       "      <td>5500</td>\n",
       "    </tr>\n",
       "    <tr>\n",
       "      <th>45</th>\n",
       "      <td>1</td>\n",
       "      <td>Rohit</td>\n",
       "      <td>Right-hand Batsmen</td>\n",
       "      <td>7100</td>\n",
       "    </tr>\n",
       "    <tr>\n",
       "      <th>18</th>\n",
       "      <td>2</td>\n",
       "      <td>Kohli</td>\n",
       "      <td>Right-hand Batsmen</td>\n",
       "      <td>10210</td>\n",
       "    </tr>\n",
       "    <tr>\n",
       "      <th>99</th>\n",
       "      <td>3</td>\n",
       "      <td>Rahul</td>\n",
       "      <td>Right-hand Batsmen</td>\n",
       "      <td>2780</td>\n",
       "    </tr>\n",
       "    <tr>\n",
       "      <th>7</th>\n",
       "      <td>4</td>\n",
       "      <td>Dhoni</td>\n",
       "      <td>Right-hand Batsmen</td>\n",
       "      <td>10150</td>\n",
       "    </tr>\n",
       "    <tr>\n",
       "      <th>64</th>\n",
       "      <td>5</td>\n",
       "      <td>Kedar</td>\n",
       "      <td>Right-hand Batsmen</td>\n",
       "      <td>1850</td>\n",
       "    </tr>\n",
       "    <tr>\n",
       "      <th>48</th>\n",
       "      <td>6</td>\n",
       "      <td>Jadeja</td>\n",
       "      <td>Left-hand Batsmen</td>\n",
       "      <td>3210</td>\n",
       "    </tr>\n",
       "    <tr>\n",
       "      <th>15</th>\n",
       "      <td>7</td>\n",
       "      <td>Pant</td>\n",
       "      <td>Left-hand Batsmen</td>\n",
       "      <td>1600</td>\n",
       "    </tr>\n",
       "    <tr>\n",
       "      <th>66</th>\n",
       "      <td>8</td>\n",
       "      <td>Pandya</td>\n",
       "      <td>Right-hand Batsmen</td>\n",
       "      <td>2100</td>\n",
       "    </tr>\n",
       "    <tr>\n",
       "      <th>40</th>\n",
       "      <td>9</td>\n",
       "      <td>Kuldeep</td>\n",
       "      <td>Left-hand Batsmen</td>\n",
       "      <td>800</td>\n",
       "    </tr>\n",
       "    <tr>\n",
       "      <th>11</th>\n",
       "      <td>10</td>\n",
       "      <td>Chahal</td>\n",
       "      <td>Right-hand Batsmen</td>\n",
       "      <td>300</td>\n",
       "    </tr>\n",
       "    <tr>\n",
       "      <th>91</th>\n",
       "      <td>11</td>\n",
       "      <td>Kumar</td>\n",
       "      <td>Right-hand Batsmen</td>\n",
       "      <td>1500</td>\n",
       "    </tr>\n",
       "    <tr>\n",
       "      <th>77</th>\n",
       "      <td>12</td>\n",
       "      <td>Shami</td>\n",
       "      <td>Right-hand Batsmen</td>\n",
       "      <td>600</td>\n",
       "    </tr>\n",
       "    <tr>\n",
       "      <th>33</th>\n",
       "      <td>13</td>\n",
       "      <td>Bumrah</td>\n",
       "      <td>Right-hand Batsmen</td>\n",
       "      <td>200</td>\n",
       "    </tr>\n",
       "  </tbody>\n",
       "</table>\n",
       "</div>"
      ],
      "text/plain": [
       "          index PlayerName        Player_Style  Score\n",
       "JerseyNo                                             \n",
       "25            0     Dhawan   Left-hand Batsmen   5500\n",
       "45            1      Rohit  Right-hand Batsmen   7100\n",
       "18            2      Kohli  Right-hand Batsmen  10210\n",
       "99            3      Rahul  Right-hand Batsmen   2780\n",
       "7             4      Dhoni  Right-hand Batsmen  10150\n",
       "64            5      Kedar  Right-hand Batsmen   1850\n",
       "48            6     Jadeja   Left-hand Batsmen   3210\n",
       "15            7       Pant   Left-hand Batsmen   1600\n",
       "66            8     Pandya  Right-hand Batsmen   2100\n",
       "40            9    Kuldeep   Left-hand Batsmen    800\n",
       "11           10     Chahal  Right-hand Batsmen    300\n",
       "91           11      Kumar  Right-hand Batsmen   1500\n",
       "77           12      Shami  Right-hand Batsmen    600\n",
       "33           13     Bumrah  Right-hand Batsmen    200"
      ]
     },
     "execution_count": 44,
     "metadata": {},
     "output_type": "execute_result"
    }
   ],
   "source": [
    "data.set_index('JerseyNo',inplace=True)\n",
    "data"
   ]
  },
  {
   "cell_type": "code",
   "execution_count": 43,
   "metadata": {},
   "outputs": [
    {
     "data": {
      "text/html": [
       "<div>\n",
       "<style scoped>\n",
       "    .dataframe tbody tr th:only-of-type {\n",
       "        vertical-align: middle;\n",
       "    }\n",
       "\n",
       "    .dataframe tbody tr th {\n",
       "        vertical-align: top;\n",
       "    }\n",
       "\n",
       "    .dataframe thead th {\n",
       "        text-align: right;\n",
       "    }\n",
       "</style>\n",
       "<table border=\"1\" class=\"dataframe\">\n",
       "  <thead>\n",
       "    <tr style=\"text-align: right;\">\n",
       "      <th></th>\n",
       "      <th>JerseyNo</th>\n",
       "      <th>index</th>\n",
       "      <th>PlayerName</th>\n",
       "      <th>Player_Style</th>\n",
       "      <th>Score</th>\n",
       "    </tr>\n",
       "  </thead>\n",
       "  <tbody>\n",
       "    <tr>\n",
       "      <th>0</th>\n",
       "      <td>25</td>\n",
       "      <td>0</td>\n",
       "      <td>Dhawan</td>\n",
       "      <td>Left-hand Batsmen</td>\n",
       "      <td>5500</td>\n",
       "    </tr>\n",
       "    <tr>\n",
       "      <th>1</th>\n",
       "      <td>45</td>\n",
       "      <td>1</td>\n",
       "      <td>Rohit</td>\n",
       "      <td>Right-hand Batsmen</td>\n",
       "      <td>7100</td>\n",
       "    </tr>\n",
       "    <tr>\n",
       "      <th>2</th>\n",
       "      <td>18</td>\n",
       "      <td>2</td>\n",
       "      <td>Kohli</td>\n",
       "      <td>Right-hand Batsmen</td>\n",
       "      <td>10210</td>\n",
       "    </tr>\n",
       "    <tr>\n",
       "      <th>3</th>\n",
       "      <td>99</td>\n",
       "      <td>3</td>\n",
       "      <td>Rahul</td>\n",
       "      <td>Right-hand Batsmen</td>\n",
       "      <td>2780</td>\n",
       "    </tr>\n",
       "    <tr>\n",
       "      <th>4</th>\n",
       "      <td>7</td>\n",
       "      <td>4</td>\n",
       "      <td>Dhoni</td>\n",
       "      <td>Right-hand Batsmen</td>\n",
       "      <td>10150</td>\n",
       "    </tr>\n",
       "    <tr>\n",
       "      <th>5</th>\n",
       "      <td>64</td>\n",
       "      <td>5</td>\n",
       "      <td>Kedar</td>\n",
       "      <td>Right-hand Batsmen</td>\n",
       "      <td>1850</td>\n",
       "    </tr>\n",
       "    <tr>\n",
       "      <th>6</th>\n",
       "      <td>48</td>\n",
       "      <td>6</td>\n",
       "      <td>Jadeja</td>\n",
       "      <td>Left-hand Batsmen</td>\n",
       "      <td>3210</td>\n",
       "    </tr>\n",
       "    <tr>\n",
       "      <th>7</th>\n",
       "      <td>15</td>\n",
       "      <td>7</td>\n",
       "      <td>Pant</td>\n",
       "      <td>Left-hand Batsmen</td>\n",
       "      <td>1600</td>\n",
       "    </tr>\n",
       "    <tr>\n",
       "      <th>8</th>\n",
       "      <td>66</td>\n",
       "      <td>8</td>\n",
       "      <td>Pandya</td>\n",
       "      <td>Right-hand Batsmen</td>\n",
       "      <td>2100</td>\n",
       "    </tr>\n",
       "    <tr>\n",
       "      <th>9</th>\n",
       "      <td>40</td>\n",
       "      <td>9</td>\n",
       "      <td>Kuldeep</td>\n",
       "      <td>Left-hand Batsmen</td>\n",
       "      <td>800</td>\n",
       "    </tr>\n",
       "    <tr>\n",
       "      <th>10</th>\n",
       "      <td>11</td>\n",
       "      <td>10</td>\n",
       "      <td>Chahal</td>\n",
       "      <td>Right-hand Batsmen</td>\n",
       "      <td>300</td>\n",
       "    </tr>\n",
       "    <tr>\n",
       "      <th>11</th>\n",
       "      <td>91</td>\n",
       "      <td>11</td>\n",
       "      <td>Kumar</td>\n",
       "      <td>Right-hand Batsmen</td>\n",
       "      <td>1500</td>\n",
       "    </tr>\n",
       "    <tr>\n",
       "      <th>12</th>\n",
       "      <td>77</td>\n",
       "      <td>12</td>\n",
       "      <td>Shami</td>\n",
       "      <td>Right-hand Batsmen</td>\n",
       "      <td>600</td>\n",
       "    </tr>\n",
       "    <tr>\n",
       "      <th>13</th>\n",
       "      <td>33</td>\n",
       "      <td>13</td>\n",
       "      <td>Bumrah</td>\n",
       "      <td>Right-hand Batsmen</td>\n",
       "      <td>200</td>\n",
       "    </tr>\n",
       "  </tbody>\n",
       "</table>\n",
       "</div>"
      ],
      "text/plain": [
       "    JerseyNo  index PlayerName        Player_Style  Score\n",
       "0         25      0     Dhawan   Left-hand Batsmen   5500\n",
       "1         45      1      Rohit  Right-hand Batsmen   7100\n",
       "2         18      2      Kohli  Right-hand Batsmen  10210\n",
       "3         99      3      Rahul  Right-hand Batsmen   2780\n",
       "4          7      4      Dhoni  Right-hand Batsmen  10150\n",
       "5         64      5      Kedar  Right-hand Batsmen   1850\n",
       "6         48      6     Jadeja   Left-hand Batsmen   3210\n",
       "7         15      7       Pant   Left-hand Batsmen   1600\n",
       "8         66      8     Pandya  Right-hand Batsmen   2100\n",
       "9         40      9    Kuldeep   Left-hand Batsmen    800\n",
       "10        11     10     Chahal  Right-hand Batsmen    300\n",
       "11        91     11      Kumar  Right-hand Batsmen   1500\n",
       "12        77     12      Shami  Right-hand Batsmen    600\n",
       "13        33     13     Bumrah  Right-hand Batsmen    200"
      ]
     },
     "execution_count": 43,
     "metadata": {},
     "output_type": "execute_result"
    }
   ],
   "source": [
    "data.reset_index(inplace=True)\n",
    "data"
   ]
  },
  {
   "cell_type": "code",
   "execution_count": 45,
   "metadata": {},
   "outputs": [
    {
     "data": {
      "text/html": [
       "<div>\n",
       "<style scoped>\n",
       "    .dataframe tbody tr th:only-of-type {\n",
       "        vertical-align: middle;\n",
       "    }\n",
       "\n",
       "    .dataframe tbody tr th {\n",
       "        vertical-align: top;\n",
       "    }\n",
       "\n",
       "    .dataframe thead th {\n",
       "        text-align: right;\n",
       "    }\n",
       "</style>\n",
       "<table border=\"1\" class=\"dataframe\">\n",
       "  <thead>\n",
       "    <tr style=\"text-align: right;\">\n",
       "      <th></th>\n",
       "      <th>index</th>\n",
       "      <th>PlayerName</th>\n",
       "      <th>Player_Style</th>\n",
       "      <th>Score</th>\n",
       "    </tr>\n",
       "    <tr>\n",
       "      <th>JerseyNo</th>\n",
       "      <th></th>\n",
       "      <th></th>\n",
       "      <th></th>\n",
       "      <th></th>\n",
       "    </tr>\n",
       "  </thead>\n",
       "  <tbody>\n",
       "    <tr>\n",
       "      <th>25</th>\n",
       "      <td>0</td>\n",
       "      <td>Dhawan</td>\n",
       "      <td>Left-hand Batsmen</td>\n",
       "      <td>5500</td>\n",
       "    </tr>\n",
       "    <tr>\n",
       "      <th>45</th>\n",
       "      <td>1</td>\n",
       "      <td>Rohit</td>\n",
       "      <td>Right-hand Batsmen</td>\n",
       "      <td>7100</td>\n",
       "    </tr>\n",
       "    <tr>\n",
       "      <th>18</th>\n",
       "      <td>2</td>\n",
       "      <td>Kohli</td>\n",
       "      <td>Right-hand Batsmen</td>\n",
       "      <td>10210</td>\n",
       "    </tr>\n",
       "    <tr>\n",
       "      <th>99</th>\n",
       "      <td>3</td>\n",
       "      <td>Rahul</td>\n",
       "      <td>Right-hand Batsmen</td>\n",
       "      <td>2780</td>\n",
       "    </tr>\n",
       "    <tr>\n",
       "      <th>7</th>\n",
       "      <td>4</td>\n",
       "      <td>Dhoni</td>\n",
       "      <td>Right-hand Batsmen</td>\n",
       "      <td>10150</td>\n",
       "    </tr>\n",
       "    <tr>\n",
       "      <th>64</th>\n",
       "      <td>5</td>\n",
       "      <td>Kedar</td>\n",
       "      <td>Right-hand Batsmen</td>\n",
       "      <td>1850</td>\n",
       "    </tr>\n",
       "    <tr>\n",
       "      <th>48</th>\n",
       "      <td>6</td>\n",
       "      <td>Jadeja</td>\n",
       "      <td>Left-hand Batsmen</td>\n",
       "      <td>3210</td>\n",
       "    </tr>\n",
       "    <tr>\n",
       "      <th>15</th>\n",
       "      <td>7</td>\n",
       "      <td>Pant</td>\n",
       "      <td>Left-hand Batsmen</td>\n",
       "      <td>1600</td>\n",
       "    </tr>\n",
       "    <tr>\n",
       "      <th>66</th>\n",
       "      <td>8</td>\n",
       "      <td>Pandya</td>\n",
       "      <td>Right-hand Batsmen</td>\n",
       "      <td>2100</td>\n",
       "    </tr>\n",
       "    <tr>\n",
       "      <th>40</th>\n",
       "      <td>9</td>\n",
       "      <td>Kuldeep</td>\n",
       "      <td>Left-hand Batsmen</td>\n",
       "      <td>800</td>\n",
       "    </tr>\n",
       "    <tr>\n",
       "      <th>11</th>\n",
       "      <td>10</td>\n",
       "      <td>Chahal</td>\n",
       "      <td>Right-hand Batsmen</td>\n",
       "      <td>300</td>\n",
       "    </tr>\n",
       "    <tr>\n",
       "      <th>91</th>\n",
       "      <td>11</td>\n",
       "      <td>Kumar</td>\n",
       "      <td>Right-hand Batsmen</td>\n",
       "      <td>1500</td>\n",
       "    </tr>\n",
       "    <tr>\n",
       "      <th>77</th>\n",
       "      <td>12</td>\n",
       "      <td>Shami</td>\n",
       "      <td>Right-hand Batsmen</td>\n",
       "      <td>600</td>\n",
       "    </tr>\n",
       "    <tr>\n",
       "      <th>33</th>\n",
       "      <td>13</td>\n",
       "      <td>Bumrah</td>\n",
       "      <td>Right-hand Batsmen</td>\n",
       "      <td>200</td>\n",
       "    </tr>\n",
       "  </tbody>\n",
       "</table>\n",
       "</div>"
      ],
      "text/plain": [
       "          index PlayerName        Player_Style  Score\n",
       "JerseyNo                                             \n",
       "25            0     Dhawan   Left-hand Batsmen   5500\n",
       "45            1      Rohit  Right-hand Batsmen   7100\n",
       "18            2      Kohli  Right-hand Batsmen  10210\n",
       "99            3      Rahul  Right-hand Batsmen   2780\n",
       "7             4      Dhoni  Right-hand Batsmen  10150\n",
       "64            5      Kedar  Right-hand Batsmen   1850\n",
       "48            6     Jadeja   Left-hand Batsmen   3210\n",
       "15            7       Pant   Left-hand Batsmen   1600\n",
       "66            8     Pandya  Right-hand Batsmen   2100\n",
       "40            9    Kuldeep   Left-hand Batsmen    800\n",
       "11           10     Chahal  Right-hand Batsmen    300\n",
       "91           11      Kumar  Right-hand Batsmen   1500\n",
       "77           12      Shami  Right-hand Batsmen    600\n",
       "33           13     Bumrah  Right-hand Batsmen    200"
      ]
     },
     "execution_count": 45,
     "metadata": {},
     "output_type": "execute_result"
    }
   ],
   "source": [
    "data"
   ]
  },
  {
   "cell_type": "markdown",
   "metadata": {},
   "source": [
    "# Numpy "
   ]
  },
  {
   "cell_type": "markdown",
   "metadata": {},
   "source": [
    "### Numpy is a general-purpose array-processing package. It provides a high-performance multidimensional array object, and tools for working with these arrays. \n",
    "### It is the fundamental package for scientific computing with Python."
   ]
  },
  {
   "cell_type": "markdown",
   "metadata": {},
   "source": [
    "### Functions in Numpy :\n",
    "### Logicals(and ,or)"
   ]
  },
  {
   "cell_type": "code",
   "execution_count": null,
   "metadata": {},
   "outputs": [],
   "source": [
    "import numpy as np\n",
    "np.logical_or(x,y)\n",
    "np.logical_and(x,y)\n",
    "x|y\n",
    "x&y"
   ]
  },
  {
   "cell_type": "code",
   "execution_count": 46,
   "metadata": {},
   "outputs": [
    {
     "data": {
      "text/html": [
       "<div>\n",
       "<style scoped>\n",
       "    .dataframe tbody tr th:only-of-type {\n",
       "        vertical-align: middle;\n",
       "    }\n",
       "\n",
       "    .dataframe tbody tr th {\n",
       "        vertical-align: top;\n",
       "    }\n",
       "\n",
       "    .dataframe thead th {\n",
       "        text-align: right;\n",
       "    }\n",
       "</style>\n",
       "<table border=\"1\" class=\"dataframe\">\n",
       "  <thead>\n",
       "    <tr style=\"text-align: right;\">\n",
       "      <th></th>\n",
       "      <th>index</th>\n",
       "      <th>PlayerName</th>\n",
       "      <th>Player_Style</th>\n",
       "      <th>Score</th>\n",
       "    </tr>\n",
       "    <tr>\n",
       "      <th>JerseyNo</th>\n",
       "      <th></th>\n",
       "      <th></th>\n",
       "      <th></th>\n",
       "      <th></th>\n",
       "    </tr>\n",
       "  </thead>\n",
       "  <tbody>\n",
       "    <tr>\n",
       "      <th>25</th>\n",
       "      <td>0</td>\n",
       "      <td>Dhawan</td>\n",
       "      <td>Left-hand Batsmen</td>\n",
       "      <td>5500</td>\n",
       "    </tr>\n",
       "    <tr>\n",
       "      <th>45</th>\n",
       "      <td>1</td>\n",
       "      <td>Rohit</td>\n",
       "      <td>Right-hand Batsmen</td>\n",
       "      <td>7100</td>\n",
       "    </tr>\n",
       "    <tr>\n",
       "      <th>48</th>\n",
       "      <td>6</td>\n",
       "      <td>Jadeja</td>\n",
       "      <td>Left-hand Batsmen</td>\n",
       "      <td>3210</td>\n",
       "    </tr>\n",
       "  </tbody>\n",
       "</table>\n",
       "</div>"
      ],
      "text/plain": [
       "          index PlayerName        Player_Style  Score\n",
       "JerseyNo                                             \n",
       "25            0     Dhawan   Left-hand Batsmen   5500\n",
       "45            1      Rohit  Right-hand Batsmen   7100\n",
       "48            6     Jadeja   Left-hand Batsmen   3210"
      ]
     },
     "execution_count": 46,
     "metadata": {},
     "output_type": "execute_result"
    }
   ],
   "source": [
    "data=data[(data['Score']>3000)&(data['Score']<8000)]\n",
    "data"
   ]
  },
  {
   "cell_type": "code",
   "execution_count": 47,
   "metadata": {},
   "outputs": [
    {
     "data": {
      "text/html": [
       "<div>\n",
       "<style scoped>\n",
       "    .dataframe tbody tr th:only-of-type {\n",
       "        vertical-align: middle;\n",
       "    }\n",
       "\n",
       "    .dataframe tbody tr th {\n",
       "        vertical-align: top;\n",
       "    }\n",
       "\n",
       "    .dataframe thead th {\n",
       "        text-align: right;\n",
       "    }\n",
       "</style>\n",
       "<table border=\"1\" class=\"dataframe\">\n",
       "  <thead>\n",
       "    <tr style=\"text-align: right;\">\n",
       "      <th></th>\n",
       "      <th>index</th>\n",
       "      <th>PlayerName</th>\n",
       "      <th>Player_Style</th>\n",
       "      <th>Score</th>\n",
       "    </tr>\n",
       "    <tr>\n",
       "      <th>JerseyNo</th>\n",
       "      <th></th>\n",
       "      <th></th>\n",
       "      <th></th>\n",
       "      <th></th>\n",
       "    </tr>\n",
       "  </thead>\n",
       "  <tbody>\n",
       "    <tr>\n",
       "      <th>25</th>\n",
       "      <td>0</td>\n",
       "      <td>Dhawan</td>\n",
       "      <td>Left-hand Batsmen</td>\n",
       "      <td>5500</td>\n",
       "    </tr>\n",
       "    <tr>\n",
       "      <th>45</th>\n",
       "      <td>1</td>\n",
       "      <td>Rohit</td>\n",
       "      <td>Right-hand Batsmen</td>\n",
       "      <td>7100</td>\n",
       "    </tr>\n",
       "    <tr>\n",
       "      <th>48</th>\n",
       "      <td>6</td>\n",
       "      <td>Jadeja</td>\n",
       "      <td>Left-hand Batsmen</td>\n",
       "      <td>3210</td>\n",
       "    </tr>\n",
       "  </tbody>\n",
       "</table>\n",
       "</div>"
      ],
      "text/plain": [
       "          index PlayerName        Player_Style  Score\n",
       "JerseyNo                                             \n",
       "25            0     Dhawan   Left-hand Batsmen   5500\n",
       "45            1      Rohit  Right-hand Batsmen   7100\n",
       "48            6     Jadeja   Left-hand Batsmen   3210"
      ]
     },
     "execution_count": 47,
     "metadata": {},
     "output_type": "execute_result"
    }
   ],
   "source": [
    "data=data[(data['Score']>3000)|(data['Score']<8000)]\n",
    "data"
   ]
  },
  {
   "cell_type": "markdown",
   "metadata": {},
   "source": [
    "# Matplotlib :"
   ]
  },
  {
   "cell_type": "markdown",
   "metadata": {},
   "source": [
    "### Matplotlib is an amazing visualization library in Python for 2D plots of arrays. \n",
    "### Matplotlib is a multi-platform data visualization library built on NumPy arrays and designed to work with the broader SciPy stack."
   ]
  },
  {
   "cell_type": "markdown",
   "metadata": {},
   "source": [
    "## Line Plot"
   ]
  },
  {
   "cell_type": "code",
   "execution_count": 51,
   "metadata": {},
   "outputs": [
    {
     "data": {
      "text/plain": [
       "Text(0.5, 1.0, 'Line Plot')"
      ]
     },
     "execution_count": 51,
     "metadata": {},
     "output_type": "execute_result"
    },
    {
     "data": {
      "image/png": "[encoded data removed]",
      "text/plain": [
       "<Figure size 720x360 with 1 Axes>"
      ]
     },
     "metadata": {
      "needs_background": "light"
     },
     "output_type": "display_data"
    }
   ],
   "source": [
    "import matplotlib.pyplot as plt \n",
    "a = [1,2,3,4]\n",
    "b = [5,6,7,8]\n",
    "plt.figure(figsize=(10,5))\n",
    "plt.plot(a,b, color='green', marker='>', linestyle='-' )\n",
    "\n",
    "plt.xlabel('X-axis')\n",
    "plt.ylabel('Y-axis')\n",
    "\n",
    "plt.title('Line Plot')"
   ]
  },
  {
   "cell_type": "markdown",
   "metadata": {},
   "source": [
    "### without using syntax :"
   ]
  },
  {
   "cell_type": "code",
   "execution_count": 52,
   "metadata": {},
   "outputs": [
    {
     "data": {
      "text/plain": [
       "[<matplotlib.lines.Line2D at 0x8f85ba8>]"
      ]
     },
     "execution_count": 52,
     "metadata": {},
     "output_type": "execute_result"
    },
    {
     "data": {
      "image/png": "[encoded data removed]",
      "text/plain": [
       "<Figure size 432x288 with 1 Axes>"
      ]
     },
     "metadata": {
      "needs_background": "light"
     },
     "output_type": "display_data"
    }
   ],
   "source": [
    "plt.plot([1,2,3,4,5],[2,3,4,5,6]) "
   ]
  },
  {
   "cell_type": "markdown",
   "metadata": {},
   "source": [
    "### Matplotlib using numpy :"
   ]
  },
  {
   "cell_type": "code",
   "execution_count": 63,
   "metadata": {},
   "outputs": [
    {
     "data": {
      "text/plain": [
       "[<matplotlib.lines.Line2D at 0xa410198>,\n",
       " <matplotlib.lines.Line2D at 0xa3de7f0>]"
      ]
     },
     "execution_count": 63,
     "metadata": {},
     "output_type": "execute_result"
    },
    {
     "data": {
      "image/png": "[encoded data removed]",
      "text/plain": [
       "<Figure size 432x288 with 1 Axes>"
      ]
     },
     "metadata": {
      "needs_background": "light"
     },
     "output_type": "display_data"
    }
   ],
   "source": [
    "import numpy as np\n",
    "x=np.arange(1,5)\n",
    "y=x**2\n",
    "plt.plot([5,4,3,2,1],[2,3,4,5,6],'b*',x,y,'ro')"
   ]
  },
  {
   "cell_type": "markdown",
   "metadata": {},
   "source": [
    "### Matplotlib bar representation :"
   ]
  },
  {
   "cell_type": "code",
   "execution_count": 64,
   "metadata": {},
   "outputs": [
    {
     "data": {
      "text/plain": [
       "<BarContainer object of 4 artists>"
      ]
     },
     "execution_count": 64,
     "metadata": {},
     "output_type": "execute_result"
    },
    {
     "data": {
      "image/png": "[encoded data removed]",
      "text/plain": [
       "<Figure size 432x288 with 1 Axes>"
      ]
     },
     "metadata": {
      "needs_background": "light"
     },
     "output_type": "display_data"
    }
   ],
   "source": [
    "Divisions = ['A','B','C','D']\n",
    "Marks = [67,84,73,91]\n",
    "plt.bar(Divisions,Marks,color='#1412cd',width=0.8)"
   ]
  },
  {
   "cell_type": "markdown",
   "metadata": {},
   "source": [
    "### horizontal"
   ]
  },
  {
   "cell_type": "code",
   "execution_count": 67,
   "metadata": {},
   "outputs": [
    {
     "data": {
      "text/plain": [
       "<BarContainer object of 4 artists>"
      ]
     },
     "execution_count": 67,
     "metadata": {},
     "output_type": "execute_result"
    },
    {
     "data": {
      "image/png": "[encoded data removed]",
      "text/plain": [
       "<Figure size 432x288 with 1 Axes>"
      ]
     },
     "metadata": {
      "needs_background": "light"
     },
     "output_type": "display_data"
    }
   ],
   "source": [
    "plt.barh(Divisions,Marks,color='#1412cd')"
   ]
  },
  {
   "cell_type": "code",
   "execution_count": 69,
   "metadata": {},
   "outputs": [
    {
     "data": {
      "text/plain": [
       "<BarContainer object of 4 artists>"
      ]
     },
     "execution_count": 69,
     "metadata": {},
     "output_type": "execute_result"
    },
    {
     "data": {
      "image/png": "[encoded data removed]",
      "text/plain": [
       "<Figure size 432x288 with 1 Axes>"
      ]
     },
     "metadata": {
      "needs_background": "light"
     },
     "output_type": "display_data"
    }
   ],
   "source": [
    "Divisions= ['A','B','C','D']\n",
    "Marks = [67,94,78,86]\n",
    "Avg_Marks = [54,81,68,75]\n",
    "index = np.arange(len(Divisions))\n",
    "width = 0.70\n",
    "plt.bar(Divisions,Marks,color='#1412cd')\n",
    "plt.bar(Divisions,Avg_Marks,color='g')"
   ]
  },
  {
   "cell_type": "code",
   "execution_count": 70,
   "metadata": {},
   "outputs": [
    {
     "data": {
      "text/plain": [
       "<matplotlib.legend.Legend at 0xa5e5ac8>"
      ]
     },
     "execution_count": 70,
     "metadata": {},
     "output_type": "execute_result"
    },
    {
     "data": {
      "image/png": "[encoded data removed]",
      "text/plain": [
       "<Figure size 432x288 with 1 Axes>"
      ]
     },
     "metadata": {
      "needs_background": "light"
     },
     "output_type": "display_data"
    }
   ],
   "source": [
    "index = np.arange(len(Divisions))\n",
    "width = 0.30\n",
    "plt.bar(Divisions,Marks,color='#1412cd',width = 0.30,label='bar1')\n",
    "plt.bar(Divisions,Avg_Marks,color=['red','g'],width = 0.30 ,label='bar2')\n",
    "plt.legend()"
   ]
  },
  {
   "cell_type": "markdown",
   "metadata": {},
   "source": [
    "### Pie Representation"
   ]
  },
  {
   "cell_type": "code",
   "execution_count": 72,
   "metadata": {},
   "outputs": [
    {
     "data": {
      "text/plain": [
       "<matplotlib.legend.Legend at 0xa682b70>"
      ]
     },
     "execution_count": 72,
     "metadata": {},
     "output_type": "execute_result"
    },
    {
     "data": {
      "image/png": "[encoded data removed]",
      "text/plain": [
       "<Figure size 432x288 with 1 Axes>"
      ]
     },
     "metadata": {},
     "output_type": "display_data"
    }
   ],
   "source": [
    "lang = ['Python' , 'Java' , 'C++' ,'C']\n",
    "rating = [72,65,59,52]\n",
    "plt.pie(rating ,labels=lang ,explode=[0,0,0.1,0],shadow=True,startangle=90,autopct=\"%1.1f%%\",labeldistance=1.2)\n",
    "plt.legend(loc='best')"
   ]
  },
  {
   "cell_type": "code",
   "execution_count": 73,
   "metadata": {},
   "outputs": [
    {
     "data": {
      "text/plain": [
       "array([0.43445658, 0.82805064, 0.4757476 , 0.51218589, 0.9480576 ])"
      ]
     },
     "execution_count": 73,
     "metadata": {},
     "output_type": "execute_result"
    }
   ],
   "source": [
    "import numpy as np\n",
    "np.random.rand(5)\n"
   ]
  },
  {
   "cell_type": "code",
   "execution_count": 74,
   "metadata": {},
   "outputs": [],
   "source": [
    "x=np.random.rand(100)\n",
    "Mean = x.mean()"
   ]
  },
  {
   "cell_type": "code",
   "execution_count": 77,
   "metadata": {},
   "outputs": [
    {
     "name": "stderr",
     "output_type": "stream",
     "text": [
      "C:\\Users\\admin\\Anaconda3\\lib\\site-packages\\ipykernel_launcher.py:6: MatplotlibDeprecationWarning: Unrecognized location 'Upper left'. Falling back on 'best'; valid locations are\n",
      "\tbest\n",
      "\tupper right\n",
      "\tupper left\n",
      "\tlower left\n",
      "\tlower right\n",
      "\tright\n",
      "\tcenter left\n",
      "\tcenter right\n",
      "\tlower center\n",
      "\tupper center\n",
      "\tcenter\n",
      "This will raise an exception in 3.3.\n",
      "  \n"
     ]
    },
    {
     "data": {
      "text/plain": [
       "<matplotlib.legend.Legend at 0xa8806d8>"
      ]
     },
     "execution_count": 77,
     "metadata": {},
     "output_type": "execute_result"
    },
    {
     "data": {
      "image/png": "[encoded data removed]",
      "text/plain": [
       "<Figure size 432x288 with 1 Axes>"
      ]
     },
     "metadata": {
      "needs_background": "light"
     },
     "output_type": "display_data"
    }
   ],
   "source": [
    "plt.hist(x,10,label='Hist',log=True)\n",
    "plt.axvline(Mean,color=\"r\")\n",
    "plt.title(\"Histogram\")\n",
    "plt.xlabel('Values')\n",
    "plt.ylabel('range')\n",
    "plt.legend(loc = \"Upper left\")\n"
   ]
  },
  {
   "cell_type": "markdown",
   "metadata": {},
   "source": [
    "### Plotting with keyword strings"
   ]
  },
  {
   "cell_type": "markdown",
   "metadata": {},
   "source": [
    "### area plot"
   ]
  },
  {
   "cell_type": "code",
   "execution_count": 93,
   "metadata": {},
   "outputs": [
    {
     "data": {
      "text/plain": [
       "<matplotlib.legend.Legend at 0xbf3cdd8>"
      ]
     },
     "execution_count": 93,
     "metadata": {},
     "output_type": "execute_result"
    },
    {
     "data": {
      "image/png": "[encoded data removed]",
      "text/plain": [
       "<Figure size 432x288 with 1 Axes>"
      ]
     },
     "metadata": {
      "needs_background": "light"
     },
     "output_type": "display_data"
    }
   ],
   "source": [
    "Industries = [1,2,3,4,5]\n",
    "DrReddys = [7,8,6,11,7]\n",
    "Bharaticements =[2,3,4,3,2]\n",
    "Valuelabs = [7,8,7,2,2]\n",
    "cognizant = [8,5,7,8,13]\n",
    "\n",
    "plt.plot([],[],color='g',label='DrReddys',linewidth=5)\n",
    "plt.plot([],[],color='b',label='Bharaticements',linewidth=5)\n",
    "plt.plot([],[],color='r',label='Valuelabs',linewidth=5)\n",
    "plt.plot([],[],color='k',label='cognizant',linewidth=5)\n",
    "\n",
    "plt.stackplot(Industries,DrReddys,Bharaticements,Valuelabs,cognizant,colors=['g','b','r','k'])\n",
    "\n",
    "plt.xlabel('X')\n",
    "plt.xlabel('Y')\n",
    "plt.legend()"
   ]
  },
  {
   "cell_type": "markdown",
   "metadata": {},
   "source": [
    "## Python Matplotlib : Plotting curves of given equation"
   ]
  },
  {
   "cell_type": "code",
   "execution_count": 94,
   "metadata": {},
   "outputs": [
    {
     "data": {
      "text/plain": [
       "[<matplotlib.lines.Line2D at 0xc0302b0>]"
      ]
     },
     "execution_count": 94,
     "metadata": {},
     "output_type": "execute_result"
    },
    {
     "data": {
      "image/png": "[encoded data removed]",
      "text/plain": [
       "<Figure size 432x288 with 1 Axes>"
      ]
     },
     "metadata": {
      "needs_background": "light"
     },
     "output_type": "display_data"
    }
   ],
   "source": [
    "import matplotlib.pyplot as plt\n",
    "import numpy as np\n",
    "\n",
    "x = np.arange(0,2*(np.pi),0.1)\n",
    "y = np.sin(x)\n",
    "\n",
    "plt.plot(x,y)"
   ]
  },
  {
   "cell_type": "markdown",
   "metadata": {},
   "source": [
    "## Subplots:"
   ]
  },
  {
   "cell_type": "code",
   "execution_count": 105,
   "metadata": {},
   "outputs": [
    {
     "data": {
      "image/png": "[encoded data removed]",
      "text/plain": [
       "<Figure size 432x288 with 4 Axes>"
      ]
     },
     "metadata": {},
     "output_type": "display_data"
    }
   ],
   "source": [
    "def create_plot(ptype):\n",
    "    x =np.arange(-10,10,0.01)\n",
    "    \n",
    "    if ptype == 'linear' :\n",
    "        y = x\n",
    "    elif ptype == 'quadratic' :\n",
    "        y = x**2\n",
    "    elif ptype == 'cubic' :\n",
    "        y = x**3\n",
    "    elif ptype == 'quartic' :\n",
    "        y = x**4\n",
    "        \n",
    "    return (x,y)\n",
    "  \n",
    "plt.style.use('fivethirtyeight') \n",
    "\n",
    "fig = plt.figure() \n",
    "\n",
    "plt1 = fig.add_subplot(221)\n",
    "plt2 = fig.add_subplot(222)\n",
    "plt3 = fig.add_subplot(223)\n",
    "plt4 = fig.add_subplot(224)\n",
    "\n",
    "x,y = create_plot('linear')\n",
    "plt1.plot(x,y,color='r')\n",
    "plt1.set_title('$y_1 = x$')\n",
    "\n",
    "x,y = create_plot('quadratic')\n",
    "plt2.plot(x,y,color='b')\n",
    "plt2.set_title('$y_2 = x^2$')\n",
    "\n",
    "x,y = create_plot('cubic')\n",
    "plt3.plot(x,y,color='g')\n",
    "plt3.set_title('$y_3 = x^3$')\n",
    "\n",
    "x,y = create_plot('quartic')\n",
    "plt4.plot(x,y,color='b')\n",
    "plt4.set_title('$y_4 = x^4$')\n",
    "\n",
    "fig.subplots_adjust(hspace=.5,wspace=0.5)\n"
   ]
  },
  {
   "cell_type": "code",
   "execution_count": 106,
   "metadata": {},
   "outputs": [
    {
     "data": {
      "text/plain": [
       "<matplotlib.legend.Legend at 0xd5a18d0>"
      ]
     },
     "execution_count": 106,
     "metadata": {},
     "output_type": "execute_result"
    },
    {
     "data": {
      "image/png": "[encoded data removed]",
      "text/plain": [
       "<Figure size 432x288 with 3 Axes>"
      ]
     },
     "metadata": {},
     "output_type": "display_data"
    }
   ],
   "source": [
    "def  create_plot(ptype):\n",
    "    x =np.arange(0,5,0.01)\n",
    "    \n",
    "    if ptype == 'sin' :\n",
    "        y = np.sin(2*np.pi*x)\n",
    "    elif ptype == 'exp' :\n",
    "        y = np.exp(-x)\n",
    "    elif ptype == 'hybrid' :\n",
    "        y = (np.sin(2*np.pi*x))*(np.exp(-x))\n",
    "        \n",
    "    return (x,y)\n",
    "\n",
    "plt.style.use('ggplot')\n",
    "\n",
    "plt1 = plt.subplot2grid((11,1),(0,0),rowspan=3,colspan=1)\n",
    "plt2 = plt.subplot2grid((11,1),(4,0),rowspan=3,colspan=1)\n",
    "plt3 = plt.subplot2grid((11,1),(8,0),rowspan=3,colspan=1)\n",
    "\n",
    "x,y = create_plot('sin')\n",
    "plt1.plot(x , y, label='sine wave' ,color='b')\n",
    "x,y = create_plot('exp')\n",
    "plt2.plot(x , y, label='negative exponential' ,color='r')\n",
    "x,y = create_plot('hybrid')\n",
    "plt3.plot(x , y, label='damped sine wave' ,color='g')\n",
    "\n",
    "plt1.legend()\n",
    "plt2.legend()\n",
    "plt3.legend()"
   ]
  },
  {
   "cell_type": "markdown",
   "metadata": {},
   "source": [
    "## 3-D plotting"
   ]
  },
  {
   "cell_type": "code",
   "execution_count": 115,
   "metadata": {},
   "outputs": [
    {
     "data": {
      "image/png": "[encoded data removed]",
      "text/plain": [
       "<Figure size 432x288 with 1 Axes>"
      ]
     },
     "metadata": {},
     "output_type": "display_data"
    }
   ],
   "source": [
    "from mpl_toolkits.mplot3d import axes3d \n",
    "import matplotlib.pyplot as plt \n",
    "from matplotlib import style \n",
    "import numpy as np\n",
    "\n",
    "style.use('ggplot') \n",
    "\n",
    "fig = plt.figure()\n",
    "\n",
    "ax1 = fig.add_subplot(111, projection='3d') \n",
    "\n",
    "x = np.random.randint(0,10,size=20)\n",
    "y = np.random.randint(0,10,size=20)\n",
    "z = np.random.randint(0,10,size=20)\n",
    "\n",
    "ax1.scatter(x, y, z, c = 'm', marker = 'o')\n",
    "\n",
    "ax1.set_xlabel('x-axis')\n",
    "ax1.set_ylabel('y-axis')\n",
    "ax1.set_zlabel('z-axis')\n",
    "\n",
    "plt.show()"
   ]
  },
  {
   "cell_type": "code",
   "execution_count": 123,
   "metadata": {},
   "outputs": [
    {
     "ename": "ValueError",
     "evalue": "Argument Z must be 2-dimensional.",
     "output_type": "error",
     "traceback": [
      "\u001b[1;31m---------------------------------------------------------------------------\u001b[0m",
      "\u001b[1;31mValueError\u001b[0m                                Traceback (most recent call last)",
      "\u001b[1;32m<ipython-input-123-1e7f0f052dfd>\u001b[0m in \u001b[0;36m<module>\u001b[1;34m\u001b[0m\n\u001b[0;32m     14\u001b[0m \u001b[0mz\u001b[0m \u001b[1;33m=\u001b[0m \u001b[0mnp\u001b[0m\u001b[1;33m.\u001b[0m\u001b[0mrandom\u001b[0m\u001b[1;33m.\u001b[0m\u001b[0mrandint\u001b[0m\u001b[1;33m(\u001b[0m\u001b[1;36m0\u001b[0m\u001b[1;33m,\u001b[0m \u001b[1;36m10\u001b[0m\u001b[1;33m,\u001b[0m \u001b[0msize\u001b[0m \u001b[1;33m=\u001b[0m \u001b[1;36m5\u001b[0m\u001b[1;33m)\u001b[0m\u001b[1;33m\u001b[0m\u001b[1;33m\u001b[0m\u001b[0m\n\u001b[0;32m     15\u001b[0m \u001b[1;33m\u001b[0m\u001b[0m\n\u001b[1;32m---> 16\u001b[1;33m \u001b[0max1\u001b[0m\u001b[1;33m.\u001b[0m\u001b[0mplot_wireframe\u001b[0m\u001b[1;33m(\u001b[0m\u001b[0mx\u001b[0m\u001b[1;33m,\u001b[0m\u001b[0my\u001b[0m\u001b[1;33m,\u001b[0m\u001b[0mz\u001b[0m\u001b[1;33m)\u001b[0m\u001b[1;33m\u001b[0m\u001b[1;33m\u001b[0m\u001b[0m\n\u001b[0m\u001b[0;32m     17\u001b[0m \u001b[1;33m\u001b[0m\u001b[0m\n\u001b[0;32m     18\u001b[0m \u001b[0max1\u001b[0m\u001b[1;33m.\u001b[0m\u001b[0mset_xlabel\u001b[0m\u001b[1;33m(\u001b[0m\u001b[1;34m'x-axis'\u001b[0m\u001b[1;33m)\u001b[0m\u001b[1;33m\u001b[0m\u001b[1;33m\u001b[0m\u001b[0m\n",
      "\u001b[1;32m~\\Anaconda3\\lib\\site-packages\\mpl_toolkits\\mplot3d\\axes3d.py\u001b[0m in \u001b[0;36mplot_wireframe\u001b[1;34m(self, X, Y, Z, *args, **kwargs)\u001b[0m\n\u001b[0;32m   1831\u001b[0m         \u001b[0mhad_data\u001b[0m \u001b[1;33m=\u001b[0m \u001b[0mself\u001b[0m\u001b[1;33m.\u001b[0m\u001b[0mhas_data\u001b[0m\u001b[1;33m(\u001b[0m\u001b[1;33m)\u001b[0m\u001b[1;33m\u001b[0m\u001b[1;33m\u001b[0m\u001b[0m\n\u001b[0;32m   1832\u001b[0m         \u001b[1;32mif\u001b[0m \u001b[0mZ\u001b[0m\u001b[1;33m.\u001b[0m\u001b[0mndim\u001b[0m \u001b[1;33m!=\u001b[0m \u001b[1;36m2\u001b[0m\u001b[1;33m:\u001b[0m\u001b[1;33m\u001b[0m\u001b[1;33m\u001b[0m\u001b[0m\n\u001b[1;32m-> 1833\u001b[1;33m             \u001b[1;32mraise\u001b[0m \u001b[0mValueError\u001b[0m\u001b[1;33m(\u001b[0m\u001b[1;34m\"Argument Z must be 2-dimensional.\"\u001b[0m\u001b[1;33m)\u001b[0m\u001b[1;33m\u001b[0m\u001b[1;33m\u001b[0m\u001b[0m\n\u001b[0m\u001b[0;32m   1834\u001b[0m         \u001b[1;31m# FIXME: Support masked arrays\u001b[0m\u001b[1;33m\u001b[0m\u001b[1;33m\u001b[0m\u001b[1;33m\u001b[0m\u001b[0m\n\u001b[0;32m   1835\u001b[0m         \u001b[0mX\u001b[0m\u001b[1;33m,\u001b[0m \u001b[0mY\u001b[0m\u001b[1;33m,\u001b[0m \u001b[0mZ\u001b[0m \u001b[1;33m=\u001b[0m \u001b[0mnp\u001b[0m\u001b[1;33m.\u001b[0m\u001b[0mbroadcast_arrays\u001b[0m\u001b[1;33m(\u001b[0m\u001b[0mX\u001b[0m\u001b[1;33m,\u001b[0m \u001b[0mY\u001b[0m\u001b[1;33m,\u001b[0m \u001b[0mZ\u001b[0m\u001b[1;33m)\u001b[0m\u001b[1;33m\u001b[0m\u001b[1;33m\u001b[0m\u001b[0m\n",
      "\u001b[1;31mValueError\u001b[0m: Argument Z must be 2-dimensional."
     ]
    },
    {
     "data": {
      "image/png": "[encoded data removed]",
      "text/plain": [
       "<Figure size 432x288 with 1 Axes>"
      ]
     },
     "metadata": {},
     "output_type": "display_data"
    }
   ],
   "source": [
    "from mpl_toolkits.mplot3d import axes3d \n",
    "import matplotlib.pyplot as plt \n",
    "from matplotlib import style \n",
    "import numpy as np \n",
    "  \n",
    "style.use('ggplot') \n",
    " \n",
    "fig = plt.figure() \n",
    "\n",
    "ax1 = fig.add_subplot(111, projection='3d') \n",
    " \n",
    "x = np.random.randint(0, 10, size = 5) \n",
    "y = np.random.randint(0, 10, size = 5) \n",
    "z = np.random.randint(0, 10, size = 5) \n",
    " \n",
    "ax1.plot_wireframe(x,y,z) \n",
    " \n",
    "ax1.set_xlabel('x-axis') \n",
    "ax1.set_ylabel('y-axis') \n",
    "ax1.set_zlabel('z-axis') \n",
    "  \n",
    "plt.show()"
   ]
  },
  {
   "cell_type": "code",
   "execution_count": 122,
   "metadata": {},
   "outputs": [
    {
     "data": {
      "image/png": "[encoded data removed]",
      "text/plain": [
       "<Figure size 432x288 with 1 Axes>"
      ]
     },
     "metadata": {},
     "output_type": "display_data"
    }
   ],
   "source": [
    "from mpl_toolkits.mplot3d import axes3d \n",
    "import matplotlib.pyplot as plt \n",
    "from matplotlib import style \n",
    "import numpy as np \n",
    "  \n",
    "style.use('ggplot') \n",
    " \n",
    "fig = plt.figure() \n",
    "\n",
    "ax1 = fig.add_subplot(111, projection='3d') \n",
    " \n",
    "x = [1,2,3,4,5,6,7,8,9,10] \n",
    "y = [4,3,1,6,5,3,7,5,3,7] \n",
    "z = np.zeros(10)\n",
    "\n",
    "dx = np.ones(10)              \n",
    "dy = np.ones(10)             \n",
    "dz = [1,3,4,2,6,7,5,5,10,9]\n",
    "\n",
    "color = [] \n",
    "for h in dz: \n",
    "    if h > 5: \n",
    "        color.append('r') \n",
    "    else: \n",
    "        color.append('b')\n",
    " \n",
    "ax1.bar3d(x, y, z, dx, dy, dz, color = color) \n",
    " \n",
    "ax1.set_xlabel('x-axis') \n",
    "ax1.set_ylabel('y-axis') \n",
    "ax1.set_zlabel('z-axis') \n",
    "  \n",
    "plt.show()"
   ]
  },
  {
   "cell_type": "code",
   "execution_count": null,
   "metadata": {},
   "outputs": [],
   "source": []
  }
 ],
 "metadata": {
  "kernelspec": {
   "display_name": "Python 3",
   "language": "python",
   "name": "python3"
  },
  "language_info": {
   "codemirror_mode": {
    "name": "ipython",
    "version": 3
   },
   "file_extension": ".py",
   "mimetype": "text/x-python",
   "name": "python",
   "nbconvert_exporter": "python",
   "pygments_lexer": "ipython3",
   "version": "3.7.3"
  }
 },
 "nbformat": 4,
 "nbformat_minor": 2
}
