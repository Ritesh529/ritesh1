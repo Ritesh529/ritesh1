{
 "cells": [
  {
   "cell_type": "markdown",
   "metadata": {},
   "source": [
    "# List Comprehension:\n",
    "## List Comprehensions provide us with a short and concise way to create new lists."
   ]
  },
  {
   "cell_type": "markdown",
   "metadata": {},
   "source": [
    "### Example  1:"
   ]
  },
  {
   "cell_type": "code",
   "execution_count": 1,
   "metadata": {},
   "outputs": [
    {
     "name": "stdout",
     "output_type": "stream",
     "text": [
      "Output list using list comprehensions: [2, 4, 4, 6]\n"
     ]
    }
   ],
   "source": [
    "list1 = [1, 2, 3, 4, 4, 5, 6, 7, 7]\n",
    "list2 = [var for var in list1 if var % 2 == 0]\n",
    "print(\"Output list using list comprehensions:\",list2)"
   ]
  },
  {
   "cell_type": "markdown",
   "metadata": {},
   "source": [
    "### Example 2:"
   ]
  },
  {
   "cell_type": "code",
   "execution_count": 2,
   "metadata": {},
   "outputs": [
    {
     "name": "stdout",
     "output_type": "stream",
     "text": [
      "Output list using list comprehensions: [1, 4, 9, 16, 25, 36, 49, 64, 81]\n"
     ]
    }
   ],
   "source": [
    "list3 = [var ** 2 for var in range(1,10)]\n",
    "print(\"Output list using list comprehensions:\",list3)\n"
   ]
  },
  {
   "cell_type": "markdown",
   "metadata": {},
   "source": [
    "## Python BuiltIn Methods:"
   ]
  },
  {
   "cell_type": "markdown",
   "metadata": {},
   "source": [
    "# map\n",
    "### map() function returns a list of the results after applying the given function to each item of a given iterable."
   ]
  },
  {
   "cell_type": "markdown",
   "metadata": {},
   "source": [
    "### Syntax:\n",
    "### map(fun, iter)\n",
    "### fun : It is a function to which map passes each element of given iterable.\n",
    "### iter : It is a iterable which is to be mapped."
   ]
  },
  {
   "cell_type": "markdown",
   "metadata": {},
   "source": [
    "### Example 1:"
   ]
  },
  {
   "cell_type": "code",
   "execution_count": 6,
   "metadata": {},
   "outputs": [
    {
     "name": "stdout",
     "output_type": "stream",
     "text": [
      "Map of numbers are : [2, 4, 6, 8]\n"
     ]
    }
   ],
   "source": [
    "def addition(n):\n",
    "    return n+n\n",
    "numbers=[1,2,3,4]\n",
    "result = map(addition,numbers)\n",
    "print(\"Map of numbers are :\",list(result))"
   ]
  },
  {
   "cell_type": "markdown",
   "metadata": {},
   "source": [
    "### Example 2: Using lambda function."
   ]
  },
  {
   "cell_type": "code",
   "execution_count": 7,
   "metadata": {},
   "outputs": [
    {
     "name": "stdout",
     "output_type": "stream",
     "text": [
      "[2, 4, 6, 8]\n"
     ]
    }
   ],
   "source": [
    "numbers = [1,2,3,4]\n",
    "result = map(lambda x : x + x , numbers)\n",
    "print(list(result))"
   ]
  },
  {
   "cell_type": "markdown",
   "metadata": {},
   "source": [
    "# Reduce\n",
    "### reduce function is used to  apply a particular function passed in its argument to all of the list elements\n",
    "### working:\n",
    "#### At first step ,two elements are added and then the result is added with remaining elements ,this process last till no more ####elements are left . "
   ]
  },
  {
   "cell_type": "code",
   "execution_count": 10,
   "metadata": {},
   "outputs": [
    {
     "name": "stdout",
     "output_type": "stream",
     "text": [
      "Sum of list elements is : 17\n",
      "Print maximum element of the list :6\n"
     ]
    }
   ],
   "source": [
    "import functools\n",
    "list1 = [1,3,5,6,2]\n",
    "print(\"Sum of list elements is :\",end=\" \")\n",
    "print(functools.reduce(lambda a,b : a + b,list1))\n",
    "print(\"Print maximum element of the list :\" ,end=\"\")\n",
    "print(functools.reduce(lambda a,b : a if a>b else b ,list1))\n"
   ]
  },
  {
   "cell_type": "markdown",
   "metadata": {},
   "source": [
    "# Enumerate\n",
    "### The enumerate() function takes a collection (e.g. a tuple) and returns it as an enumerate object.\n",
    "### Syntax :- enumerate(iterable, start)\n",
    "#### iterable - an iterable object\n",
    "#### start - the index value from which the counter is to be started, by default it is 0 \n",
    "### Example 1 :"
   ]
  },
  {
   "cell_type": "code",
   "execution_count": 18,
   "metadata": {},
   "outputs": [
    {
     "name": "stdout",
     "output_type": "stream",
     "text": [
      "[(0, 'akon'), (1, 'bkon'), (2, 'ckon'), (3, 'dkon')]\n",
      "[(2, 'A'), (3, 'p'), (4, 'p'), (5, 'l'), (6, 'e')]\n"
     ]
    }
   ],
   "source": [
    "a = [\"akon\",\"bkon\",\"ckon\",\"dkon\"]\n",
    "b = \"Apple\"\n",
    "\n",
    "obj1 = enumerate(a)\n",
    "obj2 = enumerate(b)\n",
    "\n",
    "print(list(enumerate(a)))\n",
    "print(list(enumerate(b,2)))\n"
   ]
  },
  {
   "cell_type": "markdown",
   "metadata": {},
   "source": [
    "### Example 2 : Using Enumerate object in loops"
   ]
  },
  {
   "cell_type": "code",
   "execution_count": 22,
   "metadata": {},
   "outputs": [
    {
     "name": "stdout",
     "output_type": "stream",
     "text": [
      "(0, 'akon')\n",
      "(1, 'bkon')\n",
      "(2, 'ckon')\n",
      "(3, 'dkon')\n",
      "  \n",
      "(100, 'akon')\n",
      "(101, 'bkon')\n",
      "(102, 'ckon')\n",
      "(103, 'dkon')\n"
     ]
    }
   ],
   "source": [
    "a  = [\"akon\" , \"bkon\" , \"ckon\" , \"dkon\"]\n",
    "for i in enumerate(a) :\n",
    "    print (i)\n",
    "print(\"  \")\n",
    "for j in enumerate(a,100):\n",
    "    print(j)"
   ]
  },
  {
   "cell_type": "markdown",
   "metadata": {},
   "source": [
    "# filter\n",
    "### The filter() method filters the given sequence with the help of a function that tests each element in the sequence to be true or not.\n",
    "### Syntax : filter(function, sequence)\n",
    "### function : function that tests if each element of a sequence true or not.\n",
    "### sequence : sequence which needs to be filtered, it can be sets, lists, tuples, or containers of any iterators."
   ]
  },
  {
   "cell_type": "markdown",
   "metadata": {},
   "source": [
    "### Example 1 :"
   ]
  },
  {
   "cell_type": "code",
   "execution_count": 26,
   "metadata": {},
   "outputs": [
    {
     "name": "stdout",
     "output_type": "stream",
     "text": [
      "The printed letters are :\n",
      "e\n",
      "o\n"
     ]
    }
   ],
   "source": [
    "def func(var):\n",
    "    letters = ['a','e','i','o','u']\n",
    "    if (var in letters):\n",
    "        return True\n",
    "    else :\n",
    "        return False\n",
    "    \n",
    "sequence = ['h','e','l','l','o']\n",
    "filtered = filter(func,sequence)\n",
    "\n",
    "print(\"The printed letters are :\")\n",
    "for s in filtered :\n",
    "    print(s)"
   ]
  },
  {
   "cell_type": "markdown",
   "metadata": {},
   "source": [
    "### Example 2 : Using lambda function"
   ]
  },
  {
   "cell_type": "code",
   "execution_count": 29,
   "metadata": {},
   "outputs": [
    {
     "name": "stdout",
     "output_type": "stream",
     "text": [
      "[1, 3, 5, 13]\n",
      "[2, 8]\n"
     ]
    }
   ],
   "source": [
    "sequence = [1,2,3,5,8,13]\n",
    "result = filter(lambda x : x % 2,sequence)\n",
    "print(list(result))\n",
    "\n",
    "result1 = filter(lambda x : x % 2 == 0 , sequence)\n",
    "print(list(result1))"
   ]
  },
  {
   "cell_type": "markdown",
   "metadata": {},
   "source": [
    "## Difference between map and filter \n",
    "### Both map and filter functions are similar , but the major difference is map applies the condition on the list elements and generates a new list whereas filter applies the condition and returns same list result.\n",
    "### Example 1:"
   ]
  },
  {
   "cell_type": "code",
   "execution_count": 30,
   "metadata": {},
   "outputs": [
    {
     "name": "stdout",
     "output_type": "stream",
     "text": [
      "[2, 4, 6, 8]\n",
      "[1, 2, 3, 4]\n"
     ]
    }
   ],
   "source": [
    "numbers = [1,2,3,4]\n",
    "result = map(lambda x : x + x , numbers)\n",
    "print(list(result))\n",
    "\n",
    "\n",
    "result1 = filter(lambda x : x + x, numbers)\n",
    "print(list(result1))"
   ]
  },
  {
   "cell_type": "markdown",
   "metadata": {},
   "source": [
    "### Example 2:"
   ]
  },
  {
   "cell_type": "code",
   "execution_count": 31,
   "metadata": {},
   "outputs": [
    {
     "data": {
      "text/plain": [
       "[0, 2, 4, 6, 8, 10, 12, 14, 16, 18]"
      ]
     },
     "execution_count": 31,
     "metadata": {},
     "output_type": "execute_result"
    }
   ],
   "source": [
    "list(map(lambda var : var*2,range(0,10)))"
   ]
  },
  {
   "cell_type": "code",
   "execution_count": 33,
   "metadata": {},
   "outputs": [
    {
     "data": {
      "text/plain": [
       "[1, 2, 3, 4, 5, 6, 7, 8, 9]"
      ]
     },
     "execution_count": 33,
     "metadata": {},
     "output_type": "execute_result"
    }
   ],
   "source": [
    "list(filter(lambda var : var*2,range(0,10)))"
   ]
  },
  {
   "cell_type": "markdown",
   "metadata": {},
   "source": [
    "# oops concept:"
   ]
  },
  {
   "cell_type": "markdown",
   "metadata": {},
   "source": [
    "# Class:\n",
    "### Class:The class can be defined as a collection of objects.\n",
    "### It is a logical entity that has some specific attributes and methods."
   ]
  },
  {
   "cell_type": "code",
   "execution_count": 34,
   "metadata": {},
   "outputs": [
    {
     "name": "stdout",
     "output_type": "stream",
     "text": [
      "Guru99\n",
      "Software Testing: Testing is fun\n"
     ]
    }
   ],
   "source": [
    "class myClass():\n",
    "  def method1(self):\n",
    "      print(\"Guru99\")\n",
    "        \n",
    "  def method2(self,someString):    \n",
    "      print(\"Software Testing:\" + someString)\n",
    "  \n",
    "      \n",
    "def main():           \n",
    "  c = myClass ()\n",
    "  c.method1()\n",
    "  c.method2(\" Testing is fun\")\n",
    "  \n",
    "if __name__== \"__main__\":\n",
    "  main()"
   ]
  },
  {
   "cell_type": "markdown",
   "metadata": {},
   "source": [
    "# Object:\n",
    "### Object:The object is an entity that has state and behavior."
   ]
  },
  {
   "cell_type": "code",
   "execution_count": null,
   "metadata": {},
   "outputs": [],
   "source": [
    "c = myClass ()\n",
    "c.method1()\n",
    "c.method2(\" Testing is fun\")"
   ]
  },
  {
   "cell_type": "markdown",
   "metadata": {},
   "source": [
    "# Method:\n",
    "### Method:The method is a function that is associated with an object. In Python, a method is not unique to class instances.\n",
    "### Any object type can have methods."
   ]
  },
  {
   "cell_type": "code",
   "execution_count": null,
   "metadata": {},
   "outputs": [],
   "source": [
    "def method1(self):\n",
    "      print(\"Guru99\")"
   ]
  },
  {
   "cell_type": "markdown",
   "metadata": {},
   "source": [
    "# Inheritance:\n",
    "### Inheritance:It specifies that the child object acquires all the properties and behaviors of the parent object***.\n",
    "### *By using inheritance, we can create a class which uses all the properties and behavior of another class. \n",
    "### *The new class is known as a derived class or child class, and the one whose properties are acquired is known as a base class or parent class.\n",
    "### *It provides re-usability of the code.\n"
   ]
  },
  {
   "cell_type": "markdown",
   "metadata": {},
   "source": [
    "### Python Example for Inheritance : "
   ]
  },
  {
   "cell_type": "code",
   "execution_count": 1,
   "metadata": {},
   "outputs": [
    {
     "name": "stdout",
     "output_type": "stream",
     "text": [
      "Akon False\n",
      "Bkon True\n"
     ]
    }
   ],
   "source": [
    "class Person(object):\n",
    "    def __init__(self,name):\n",
    "        self.name = name\n",
    "    def getName(self):\n",
    "        return self.name\n",
    "    def isEmployee(self):\n",
    "        return False\n",
    "class Employee(Person):\n",
    "    def isEmployee(self):\n",
    "        return True\n",
    "emp=Person(\"Akon\")\n",
    "print(emp.getName(),emp.isEmployee())\n",
    "\n",
    "emp=Employee(\"Bkon\")\n",
    "print(emp.getName(),emp.isEmployee())\n",
    "\n"
   ]
  },
  {
   "cell_type": "markdown",
   "metadata": {},
   "source": [
    "### Python supports multiple inheritance."
   ]
  },
  {
   "cell_type": "code",
   "execution_count": 6,
   "metadata": {},
   "outputs": [
    {
     "name": "stdout",
     "output_type": "stream",
     "text": [
      "Parent1\n",
      "Parent2\n",
      "Child\n",
      "Akon Bkon\n"
     ]
    }
   ],
   "source": [
    "class Parent1():\n",
    "    def __init__(self):\n",
    "        self.A = \"Akon\"\n",
    "        print(\"Parent1\")\n",
    "        \n",
    "class Parent2():\n",
    "    def __init__(self):\n",
    "        self.B = \"Bkon\"\n",
    "        print(\"Parent2\")\n",
    "        \n",
    "class Child(Parent1,Parent2):\n",
    "    def __init__(self):\n",
    "        Parent1.__init__(self)\n",
    "        Parent2.__init__(self)\n",
    "        print (\"Child\")\n",
    "        \n",
    "    def message(self):\n",
    "            print(self.A,self.B)\n",
    "            \n",
    "            \n",
    "AA = Child()\n",
    "AA.message()"
   ]
  },
  {
   "cell_type": "markdown",
   "metadata": {},
   "source": [
    "# Encapsulation:\n",
    "### Encapsulation:Encapsulation is also an important aspect of object-oriented programming. It is used to restrict access to methods and variables. \n",
    "### *In encapsulation, code and data are wrapped together within a single unit from being modified by accident."
   ]
  },
  {
   "cell_type": "markdown",
   "metadata": {},
   "source": [
    "### Encapsulation Example :\n"
   ]
  },
  {
   "cell_type": "code",
   "execution_count": 20,
   "metadata": {},
   "outputs": [
    {
     "name": "stdout",
     "output_type": "stream",
     "text": [
      "Selling Price: 900\n",
      "Selling Price: 900\n",
      "Selling Price: 1000\n"
     ]
    }
   ],
   "source": [
    "class Computer:\n",
    "\n",
    "    def __init__(self):\n",
    "        self.__maxprice = 900\n",
    "\n",
    "    def sell(self):\n",
    "        print(\"Selling Price: {}\".format(self.__maxprice))\n",
    "\n",
    "    def setMaxPrice(self, price):\n",
    "        self.__maxprice = price\n",
    "\n",
    "c = Computer()\n",
    "c.sell()\n",
    "\n",
    "c.__maxprice = 1000\n",
    "c.sell()\n",
    "\n",
    "c.setMaxPrice(1000)\n",
    "c.sell()"
   ]
  },
  {
   "cell_type": "markdown",
   "metadata": {},
   "source": [
    "\n",
    "# Abstraction:\n",
    "### Abstraction:Abstraction is used to hide internal details and show only functionalities. \n",
    "### *Abstracting something means to give names to things so that the name captures the core of what a function or a whole program does."
   ]
  },
  {
   "cell_type": "markdown",
   "metadata": {},
   "source": [
    "### Abstraction Example :"
   ]
  },
  {
   "cell_type": "code",
   "execution_count": 19,
   "metadata": {},
   "outputs": [
    {
     "name": "stdout",
     "output_type": "stream",
     "text": [
      "I have 3 sides\n",
      "I have 5 sides\n",
      "I have 6 sides\n",
      "I have 4 sides\n"
     ]
    }
   ],
   "source": [
    "class Polygon(ABC):\n",
    "    def noofsides(self):\n",
    "        pass\n",
    "    \n",
    "class Triangle(Polygon):\n",
    "    def noofsides(self):\n",
    "        print(\"I have 3 sides\")\n",
    "        \n",
    "class Pentagon(Polygon):\n",
    "    def noofsides(self):\n",
    "        print(\"I have 5 sides\")\n",
    "        \n",
    "class Hexagon(Polygon):\n",
    "    def noofsides(self):\n",
    "        print(\"I have 6 sides\")\n",
    "        \n",
    "class Quadrilateral(Polygon):\n",
    "    def noofsides(self):\n",
    "        print(\"I have 4 sides\")\n",
    "\n",
    "R = Triangle()\n",
    "R.noofsides()\n",
    "\n",
    "R = Pentagon()\n",
    "R.noofsides()\n",
    "\n",
    "R = Hexagon()\n",
    "R.noofsides()\n",
    "\n",
    "R = Quadrilateral()\n",
    "R.noofsides()"
   ]
  },
  {
   "cell_type": "markdown",
   "metadata": {},
   "source": [
    "# Polymorphism:\n",
    "### Polymorphism:Polymorphism contains two words \"poly\" and \"morphs\". Poly means many and Morphs means form, shape. \n",
    " ### *By polymorphism, we understand that one task can be performed in different ways.\n"
   ]
  },
  {
   "cell_type": "markdown",
   "metadata": {},
   "source": [
    "### Polymorphism Example 1:"
   ]
  },
  {
   "cell_type": "code",
   "execution_count": 10,
   "metadata": {},
   "outputs": [
    {
     "name": "stdout",
     "output_type": "stream",
     "text": [
      "Hyderabad is the capital of Telangana\n",
      "Telugu is the primary language of Telangana\n",
      "Telangana is 11th largest state\n",
      "      \n",
      "Chennai is the capital of Telangana\n",
      "Tamil is the primary language of Telangana\n",
      "Tamilnadu is 10th largest state\n",
      "      \n",
      "Bengaluru is the capital of Telangana\n",
      "Kannada is the primary language of Telangana\n",
      "Karnataka is 6th largest state\n",
      "      \n"
     ]
    }
   ],
   "source": [
    "class Telangana():\n",
    "    def Capital(self):\n",
    "        print(\"Hyderabad is the capital of Telangana\")\n",
    "    def Language(self):\n",
    "        print(\"Telugu is the primary language of Telangana\")\n",
    "    def Rank(self):\n",
    "        print(\"Telangana is 11th largest state\")\n",
    "        print(\"      \")\n",
    "        \n",
    "class TamilNadu():\n",
    "    def Capital(self):\n",
    "        print(\"Chennai is the capital of Telangana\")\n",
    "    def Language(self):\n",
    "        print(\"Tamil is the primary language of Telangana\")\n",
    "    def Rank(self):\n",
    "        print(\"Tamilnadu is 10th largest state\")\n",
    "        print(\"      \")\n",
    "\n",
    "class Karnataka():\n",
    "    def Capital(self):\n",
    "        print(\"Bengaluru is the capital of Telangana\")\n",
    "    def Language(self):\n",
    "        print(\"Kannada is the primary language of Telangana\")\n",
    "    def Rank(self):\n",
    "        print(\"Karnataka is 6th largest state\")\n",
    "        print(\"      \")\n",
    "\n",
    "obj_TS = Telangana()\n",
    "obj_TN = TamilNadu()\n",
    "obj_KN = Karnataka()\n",
    "\n",
    "for state in (obj_TS , obj_TN , obj_KN) :\n",
    "    state.Capital()\n",
    "    state.Language()\n",
    "    state.Rank()"
   ]
  },
  {
   "cell_type": "markdown",
   "metadata": {},
   "source": [
    "### Polymorphism with inheritance :"
   ]
  },
  {
   "cell_type": "code",
   "execution_count": 14,
   "metadata": {},
   "outputs": [
    {
     "name": "stdout",
     "output_type": "stream",
     "text": [
      "There are many types of birds.\n",
      "Most of the birds can fly but some cannot.\n",
      "There are many types of birds.\n",
      "Sparrows can fly.\n",
      "There are many types of birds.\n",
      "ostrich can't fly.\n"
     ]
    }
   ],
   "source": [
    "class Bird():\n",
    "    def intro(self):\n",
    "        print(\"There are many types of birds.\")\n",
    "    def flight(self):\n",
    "        print(\"Most of the birds can fly but some cannot.\")\n",
    "        \n",
    "class sparrow(Bird):\n",
    "    def flight(self):\n",
    "        print(\"Sparrows can fly.\")\n",
    "    \n",
    "class ostrich(Bird):\n",
    "    def flight(self):\n",
    "        print(\"ostrich can't fly.\")\n",
    "        \n",
    "obj_brd = Bird()\n",
    "obj_spw= sparrow()\n",
    "obj_osr = ostrich()\n",
    "\n",
    "obj_brd.intro()\n",
    "obj_brd.flight()\n",
    "\n",
    "obj_spw.intro()\n",
    "obj_spw.flight()\n",
    "\n",
    "obj_osr.intro()\n",
    "obj_osr.flight()"
   ]
  },
  {
   "cell_type": "markdown",
   "metadata": {},
   "source": [
    "# Constructor:\n",
    "#### ***Constructors are generally used for instantiating an object.\n",
    "#### ***The task of constructors is to initialize(assign values) to the data members of the class when an object of class is created.\n",
    "#### ***In Python the __init__() method is called the constructor and is always called when an object is created.\n",
    "### Syntax:\n",
    "#### def __init__(self):\n",
    " ####            body of the constructor\n",
    "### Types of Constructors:\n",
    "#### 1.default constructor : without parameters\n",
    "#### 2.parameterized constructor :  with parameters"
   ]
  },
  {
   "cell_type": "markdown",
   "metadata": {},
   "source": [
    "## Example for default constructor :"
   ]
  },
  {
   "cell_type": "code",
   "execution_count": 27,
   "metadata": {},
   "outputs": [
    {
     "name": "stdout",
     "output_type": "stream",
     "text": [
      "Mahender Singh Dhoni\n"
     ]
    }
   ],
   "source": [
    "class Cricketer:\n",
    "    player = \"\"\n",
    "    \n",
    "    def __init__(self):\n",
    "        self.player = \"Mahender Singh Dhoni\"\n",
    "    \n",
    "    def print_player(self):\n",
    "        print(self.player)\n",
    "        \n",
    "obj = Cricketer()\n",
    "obj.print_player()"
   ]
  },
  {
   "cell_type": "markdown",
   "metadata": {},
   "source": [
    "## Example for parameterized constructor :"
   ]
  },
  {
   "cell_type": "code",
   "execution_count": 28,
   "metadata": {},
   "outputs": [
    {
     "name": "stdout",
     "output_type": "stream",
     "text": [
      "first number = 1000\n",
      "second number = 2000\n",
      "Addition of two numbers = 3000\n"
     ]
    }
   ],
   "source": [
    "class Addition:\n",
    "    first  = 0\n",
    "    second = 0\n",
    "    answer = 0\n",
    "    \n",
    "    def __init__(self,f,s):\n",
    "        self.first = f\n",
    "        self.second = s\n",
    "    def display(self):\n",
    "        print(\"first number = \"+str(self.first))\n",
    "        print(\"second number = \"+str(self.second))\n",
    "        print(\"Addition of two numbers = \"+str(self.answer))\n",
    "    def calculate(self):\n",
    "        self.answer = self.first + self.second\n",
    "        \n",
    "obj = Addition(1000,2000)\n",
    "obj.calculate()\n",
    "obj.display()"
   ]
  },
  {
   "cell_type": "markdown",
   "metadata": {},
   "source": [
    "# Destructors:\n",
    "#### Destructors are called when an object gets destroyed. \n",
    "#### In Python, destructors are not needed as much needed in C++ because Python has a garbage collector that\n",
    " #### handles memory management automatically.\n",
    "#### The __del__() method is a known as a destructor method in Python. \n",
    "## Syntax:\n",
    "  #### def __del__(self):\n",
    "  #### body of destructor"
   ]
  },
  {
   "cell_type": "markdown",
   "metadata": {},
   "source": [
    "## Example for Destructors:"
   ]
  },
  {
   "cell_type": "code",
   "execution_count": 31,
   "metadata": {},
   "outputs": [
    {
     "name": "stdout",
     "output_type": "stream",
     "text": [
      "Employee created.\n",
      "Destructor called , Employee deleted.\n"
     ]
    }
   ],
   "source": [
    "class Employee :\n",
    "    def __init__(self):\n",
    "        print(\"Employee created.\")\n",
    "    def __del__(self):\n",
    "        print(\"Destructor called , Employee deleted.\")\n",
    "\n",
    "obj = Employee()\n",
    "del obj"
   ]
  },
  {
   "cell_type": "code",
   "execution_count": null,
   "metadata": {},
   "outputs": [],
   "source": []
  }
 ],
 "metadata": {
  "kernelspec": {
   "display_name": "Python 3",
   "language": "python",
   "name": "python3"
  },
  "language_info": {
   "codemirror_mode": {
    "name": "ipython",
    "version": 3
   },
   "file_extension": ".py",
   "mimetype": "text/x-python",
   "name": "python",
   "nbconvert_exporter": "python",
   "pygments_lexer": "ipython3",
   "version": "3.7.3"
  }
 },
 "nbformat": 4,
 "nbformat_minor": 2
}
