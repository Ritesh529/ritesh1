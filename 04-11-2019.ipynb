{
 "cells": [
  {
   "cell_type": "code",
   "execution_count": 4,
   "metadata": {
    "scrolled": true
   },
   "outputs": [
    {
     "name": "stdout",
     "output_type": "stream",
     "text": [
      "127834\n",
      "8\n"
     ]
    }
   ],
   "source": [
    "def greater(n):\n",
    "    a=0\n",
    "    while(n):\n",
    "        r=n%10\n",
    "        a = max(r,a)\n",
    "        n=n//10\n",
    "    print(a)\n",
    "n=int(input())\n",
    "greater(n)        \n",
    "        "
   ]
  },
  {
   "cell_type": "code",
   "execution_count": 12,
   "metadata": {},
   "outputs": [
    {
     "name": "stdout",
     "output_type": "stream",
     "text": [
      "1889\n",
      "26\n"
     ]
    }
   ],
   "source": [
    "def adding(n):\n",
    "    a=0\n",
    "    while(n): \n",
    "        r=n%10\n",
    "        a=r+a\n",
    "        n=n//10\n",
    "    print(a)\n",
    "n=int(input())\n",
    "adding(n)"
   ]
  },
  {
   "cell_type": "code",
   "execution_count": null,
   "metadata": {},
   "outputs": [],
   "source": []
  }
 ],
 "metadata": {
  "kernelspec": {
   "display_name": "Python 3",
   "language": "python",
   "name": "python3"
  },
  "language_info": {
   "codemirror_mode": {
    "name": "ipython",
    "version": 3
   },
   "file_extension": ".py",
   "mimetype": "text/x-python",
   "name": "python",
   "nbconvert_exporter": "python",
   "pygments_lexer": "ipython3",
   "version": "3.7.3"
  }
 },
 "nbformat": 4,
 "nbformat_minor": 2
}
