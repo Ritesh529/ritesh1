{
 "cells": [
  {
   "cell_type": "code",
   "execution_count": 1,
   "metadata": {},
   "outputs": [
    {
     "name": "stdout",
     "output_type": "stream",
     "text": [
      "<__main__.Car object at 0x0000000004A73A20>\n"
     ]
    }
   ],
   "source": [
    "class Car:\n",
    "    def __init__(self,model,colour):\n",
    "        self.model=model\n",
    "        self.colour=colour\n",
    "    def two(self):\n",
    "        return f'a {self.colour} car'\n",
    "        \n",
    "mycar = Car(2012,\"red\")    \n",
    "    "
   ]
  },
  {
   "cell_type": "code",
   "execution_count": 2,
   "metadata": {},
   "outputs": [
    {
     "name": "stdout",
     "output_type": "stream",
     "text": [
      "red 2012\n"
     ]
    }
   ],
   "source": [
    "print(mycar.colour,mycar.model)"
   ]
  },
  {
   "cell_type": "code",
   "execution_count": 17,
   "metadata": {},
   "outputs": [
    {
     "name": "stdout",
     "output_type": "stream",
     "text": [
      "101\n",
      "akon\n",
      "25000\n"
     ]
    }
   ],
   "source": [
    "#1\n",
    "class Employee:\n",
    "    def __init__(self):\n",
    "        self.eno=0\n",
    "        self.ename=None\n",
    "        self.esal=0\n",
    "def main():\n",
    "    emp1=Employee()\n",
    "    emp1.eno=101\n",
    "    emp1.ename=\"akon\"\n",
    "    emp1.esal=25000\n",
    "    print(emp1.eno)\n",
    "    print(emp1.ename)\n",
    "    print(emp1.esal)\n",
    "main()"
   ]
  },
  {
   "cell_type": "code",
   "execution_count": 20,
   "metadata": {},
   "outputs": [
    {
     "name": "stdout",
     "output_type": "stream",
     "text": [
      "102\n",
      "bkon\n",
      "23000\n"
     ]
    }
   ],
   "source": [
    "#2\n",
    "class Employee:\n",
    "    def __init__(self,eno,ename,esal):\n",
    "        self.eno=eno\n",
    "        self.ename=ename\n",
    "        self.esal=esal\n",
    "\n",
    "def main():\n",
    "    #emp1=Employee(eno=102,ename=\"bkon\",esal=23000)\n",
    "    emp1=Employee(102,\"bkon\",23000)\n",
    "    print(emp1.eno)\n",
    "    print(emp1.ename)\n",
    "    print(emp1.esal)\n",
    "main()"
   ]
  },
  {
   "cell_type": "code",
   "execution_count": 29,
   "metadata": {},
   "outputs": [
    {
     "name": "stdout",
     "output_type": "stream",
     "text": [
      "None\n",
      "(103, 'Ckon', 26000)\n"
     ]
    }
   ],
   "source": [
    "#3\n",
    "class Employee:\n",
    "    def __init__(self):\n",
    "        self.eno=0\n",
    "        self.ename=None\n",
    "        self.esal=0\n",
    "    def set_emp(self,a,b,c):\n",
    "        self.eno=a\n",
    "        self.ename=b\n",
    "        self.esal=c\n",
    "    def get_emp(self):\n",
    "        return self.eno,self.ename,self.esal\n",
    "def main():\n",
    "    emp1=Employee()\n",
    "    print(emp1.set_emp(103,\"Ckon\",26000))\n",
    "    print(emp1.get_emp())\n",
    "\n",
    "main()"
   ]
  },
  {
   "cell_type": "code",
   "execution_count": 27,
   "metadata": {},
   "outputs": [
    {
     "name": "stdout",
     "output_type": "stream",
     "text": [
      "104\n",
      "Dkon\n",
      "27500\n"
     ]
    }
   ],
   "source": [
    "#4\n",
    "class Employee:\n",
    "    def __init__(self):\n",
    "        self.eno=0\n",
    "        self.ename=None\n",
    "        self.esal=0\n",
    "        \n",
    "def main():\n",
    "    emp1=Employee()\n",
    "    setattr(emp1,\"eno\",104)\n",
    "    setattr(emp1,\"ename\",\"Dkon\")\n",
    "    setattr(emp1,\"esal\",27500)\n",
    "    print(getattr(emp1,\"eno\"))\n",
    "    print(getattr(emp1,\"ename\"))\n",
    "    print(getattr(emp1,\"esal\"))\n",
    "    \n",
    "\n",
    "main()"
   ]
  },
  {
   "cell_type": "code",
   "execution_count": 35,
   "metadata": {},
   "outputs": [
    {
     "name": "stdout",
     "output_type": "stream",
     "text": [
      "Enter the filename:myfile3.txt\n",
      "hey how are you I am fine and you Yes I am fine\n"
     ]
    }
   ],
   "source": [
    "def read_file(filename):\n",
    "    with open(filename,\"r\") as info:\n",
    "        data=info.read()\n",
    "    return data\n",
    "\n",
    "n=input(\"Enter the filename:\")\n",
    "print(read_file(n))"
   ]
  },
  {
   "cell_type": "code",
   "execution_count": 32,
   "metadata": {},
   "outputs": [
    {
     "name": "stdout",
     "output_type": "stream",
     "text": [
      "Enter the filename:myfile1.txt\n",
      "{'hey': 1, 'how': 1, 'are': 1, 'you': 2, 'I': 2, 'am': 2, 'fine': 2, 'and': 1, 'Yes': 1}\n"
     ]
    }
   ],
   "source": [
    "def frequency(filename):\n",
    "    dict={ }\n",
    "    with open(filename,\"r\") as info:\n",
    "        for l in info:\n",
    "            for w in l.split():\n",
    "                dict[w]=dict.get(w,0)+1\n",
    "    return dict\n",
    "\n",
    "n=input(\"Enter the filename:\")\n",
    "print(frequency(n))\n",
    "    "
   ]
  },
  {
   "cell_type": "code",
   "execution_count": 33,
   "metadata": {},
   "outputs": [
    {
     "name": "stdout",
     "output_type": "stream",
     "text": [
      "Enter the filename:myfile1.txt\n",
      "48\n"
     ]
    }
   ],
   "source": [
    "def file_size(filename):\n",
    "    with open(filename,\"r\") as info:\n",
    "        info.seek(0,2)\n",
    "        size=info.tell()\n",
    "    return size\n",
    "n=input(\"Enter the filename:\")\n",
    "print(file_size(n))"
   ]
  },
  {
   "cell_type": "code",
   "execution_count": 34,
   "metadata": {},
   "outputs": [
    {
     "name": "stdout",
     "output_type": "stream",
     "text": [
      "Enter the filename1:myfile2.txt\n",
      "Enter the filename2:myfile3.txt\n",
      "Copied\n"
     ]
    }
   ],
   "source": [
    "def copy(filename1,filename2):\n",
    "    with open(filename1,\"r\") as f1:\n",
    "        with open(filename2,\"w\") as f2:\n",
    "            for line in f1:\n",
    "                f2.write(line)\n",
    "    return \"Copied\"\n",
    "\n",
    "f1=input(\"Enter the filename1:\")\n",
    "f2=input(\"Enter the filename2:\")\n",
    "print(copy(f1,f2))"
   ]
  },
  {
   "cell_type": "code",
   "execution_count": 39,
   "metadata": {},
   "outputs": [
    {
     "name": "stdout",
     "output_type": "stream",
     "text": [
      "Enter the filename:myfiles.txt\n",
      "['This is line 1', '', 'This is line 2', '', 'This is line 3', '', 'This is line 4', '', 'This is line 5', '', 'This is line 6', '', 'This is line 7', '', 'This is line 8', '', 'This is line 9', '', 'This is line 10', '', 'This is appended line 1', '', 'This is appended line 2', '']\n"
     ]
    }
   ],
   "source": [
    "def remove_lines(filename):\n",
    "    flist=open(filename).readlines()\n",
    "    return[s.rstrip('\\n') for  s in flist]\n",
    "f=input(\"Enter the filename:\")\n",
    "print(remove_lines(f))"
   ]
  },
  {
   "cell_type": "code",
   "execution_count": 40,
   "metadata": {},
   "outputs": [
    {
     "name": "stdout",
     "output_type": "stream",
     "text": [
      "Enter the filename:myfiles.txt\n",
      "This is line 1\n",
      "\n",
      "This is line 2\n",
      "\n",
      "This is line 3\n",
      "\n",
      "This is line 4\n",
      "\n",
      "This is line 5\n",
      "\n",
      "This is line 6\n",
      "\n",
      "This is line 7\n",
      "\n",
      "This is line 8\n",
      "\n",
      "This is line 9\n",
      "\n",
      "This is line 10\n",
      "\n",
      "This is appended line 1\n",
      "\n",
      "This is appended line 2\n",
      "\n",
      "\n"
     ]
    }
   ],
   "source": [
    "def line_by_line(filename):\n",
    "    with open(filename,\"r\") as info:\n",
    "        if info.mode == \"r\" :\n",
    "            line=info.read()\n",
    "    return line\n",
    "\n",
    "n=input(\"Enter the filename:\")\n",
    "print(line_by_line(n))"
   ]
  },
  {
   "cell_type": "code",
   "execution_count": 43,
   "metadata": {},
   "outputs": [
    {
     "name": "stdout",
     "output_type": "stream",
     "text": [
      "Enter the filename:myfiles.txt\n",
      "['appended', 'appended']\n"
     ]
    }
   ],
   "source": [
    "def longest_word(filename):\n",
    "    with open(filename,\"r\") as info:\n",
    "        words=info.read().split()\n",
    "        max_length = len(max(words,key=len))\n",
    "        return[word for word in words if len(word)==max_length]\n",
    "\n",
    "n=input(\"Enter the filename:\")\n",
    "print(longest_word(n))"
   ]
  },
  {
   "cell_type": "code",
   "execution_count": 47,
   "metadata": {},
   "outputs": [
    {
     "name": "stdout",
     "output_type": "stream",
     "text": [
      "Enter the filename:myfile2.txt\n",
      "1\n"
     ]
    }
   ],
   "source": [
    "def no_of_lines(filename):\n",
    "    with open(filename,\"r\") as info:\n",
    "        for i,l in enumerate(info):\n",
    "            pass\n",
    "    return i+1\n",
    "\n",
    "n=input(\"Enter the filename:\")\n",
    "print(no_of_lines(n))"
   ]
  },
  {
   "cell_type": "code",
   "execution_count": 52,
   "metadata": {},
   "outputs": [
    {
     "name": "stdout",
     "output_type": "stream",
     "text": [
      "enter file name:myfile1.txt\n",
      "no of characters: 48\n"
     ]
    }
   ],
   "source": [
    "def no_of_char(filename):\n",
    "    character = 0\n",
    "    with open(filename,\"r\") as infile:\n",
    "        for i in infile:\n",
    "            wordslist = i.split()\n",
    "            character = character + len(i)\n",
    "    return character\n",
    "    \n",
    "n=input(\"enter file name:\")    \n",
    "print(\"no of characters:\",no_of_char(n))  "
   ]
  },
  {
   "cell_type": "code",
   "execution_count": 56,
   "metadata": {},
   "outputs": [
    {
     "name": "stdout",
     "output_type": "stream",
     "text": [
      "Enter the filename:myfiles.txt\n",
      "50\n"
     ]
    }
   ],
   "source": [
    "def count_words(filename):\n",
    "    with open(filename,\"r\") as info:\n",
    "        words=0\n",
    "        for i in info:\n",
    "            wordslist=i.split()\n",
    "            words=words+len(wordslist)\n",
    "    return words\n",
    "\n",
    "n=input(\"Enter the filename:\")\n",
    "print(count_words(n))"
   ]
  },
  {
   "cell_type": "code",
   "execution_count": null,
   "metadata": {},
   "outputs": [],
   "source": []
  }
 ],
 "metadata": {
  "kernelspec": {
   "display_name": "Python 3",
   "language": "python",
   "name": "python3"
  },
  "language_info": {
   "codemirror_mode": {
    "name": "ipython",
    "version": 3
   },
   "file_extension": ".py",
   "mimetype": "text/x-python",
   "name": "python",
   "nbconvert_exporter": "python",
   "pygments_lexer": "ipython3",
   "version": "3.7.3"
  }
 },
 "nbformat": 4,
 "nbformat_minor": 2
}
